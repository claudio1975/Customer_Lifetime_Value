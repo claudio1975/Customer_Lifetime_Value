{
 "cells": [
  {
   "cell_type": "markdown",
   "metadata": {},
   "source": [
    "# Unsupervised Learning applied to Customer Lifetime Value (CLV)"
   ]
  },
  {
   "cell_type": "markdown",
   "metadata": {},
   "source": [
    "![](https://wilsonprintingusa.com/wp-content/uploads/2015/02/Customer-Lifetime-Value-Wilson-Printing.jpg)"
   ]
  },
  {
   "cell_type": "markdown",
   "metadata": {},
   "source": [
    "# Prepare Workspace"
   ]
  },
  {
   "cell_type": "code",
   "execution_count": 1,
   "metadata": {},
   "outputs": [],
   "source": [
    "# Upload libraries\n",
    "from numpy.random import seed\n",
    "seed(1)\n",
    "import tensorflow.keras\n",
    "tensorflow.random.set_seed(2)\n",
    "\n",
    "# to handle datasets\n",
    "import numpy as np\n",
    "import pandas as pd\n",
    "import datetime\n",
    "\n",
    "# for plotting\n",
    "import matplotlib.pyplot as plt\n",
    "%matplotlib inline\n",
    "import seaborn as sns\n",
    "\n",
    "# for statistics\n",
    "import statistics as st \n",
    "import scipy.stats as stats\n",
    "import statsmodels.api as sm\n",
    "import statsmodels.formula.api as smf\n",
    "\n",
    "# to split data set \n",
    "from sklearn.model_selection import train_test_split\n",
    "\n",
    "# feature scaling\n",
    "from sklearn.preprocessing import MinMaxScaler\n",
    "from sklearn.preprocessing import StandardScaler\n",
    "\n",
    "# to build models\n",
    "from sklearn.model_selection import KFold\n",
    "from sklearn.model_selection import GridSearchCV\n",
    "from sklearn.ensemble import GradientBoostingRegressor\n",
    "\n",
    "# dimensionality reductiion\n",
    "from sklearn.decomposition import PCA\n",
    "from sklearn.manifold import Isomap\n",
    "from sklearn.manifold import TSNE\n",
    "from keras.layers import Input,Dense\n",
    "from keras.models import Model\n",
    "\n",
    "# clustering\n",
    "from sklearn.cluster import KMeans\n",
    "from sklearn.mixture import GaussianMixture\n",
    "import scipy.cluster.hierarchy as sch\n",
    "from sklearn.cluster import AgglomerativeClustering\n",
    "from sklearn.cluster import DBSCAN\n",
    "from sklearn.neighbors import NearestNeighbors\n",
    "\n",
    "# to evaluate models\n",
    "from sklearn.metrics import median_absolute_error\n",
    "from sklearn.metrics import silhouette_score\n",
    "\n",
    "import warnings\n",
    "warnings.filterwarnings('ignore')"
   ]
  },
  {
   "cell_type": "code",
   "execution_count": 2,
   "metadata": {},
   "outputs": [],
   "source": [
    "df = pd.read_csv('AutoInsurance.csv')"
   ]
  },
  {
   "cell_type": "markdown",
   "metadata": {},
   "source": [
    "# Data set Overview"
   ]
  },
  {
   "cell_type": "code",
   "execution_count": 3,
   "metadata": {},
   "outputs": [
    {
     "name": "stdout",
     "output_type": "stream",
     "text": [
      "(9134, 24)\n"
     ]
    }
   ],
   "source": [
    "# Dimensions of data set\n",
    "print(df.shape)"
   ]
  },
  {
   "cell_type": "code",
   "execution_count": 4,
   "metadata": {},
   "outputs": [
    {
     "name": "stdout",
     "output_type": "stream",
     "text": [
      "<class 'pandas.core.frame.DataFrame'>\n",
      "RangeIndex: 9134 entries, 0 to 9133\n",
      "Data columns (total 24 columns):\n",
      " #   Column                         Non-Null Count  Dtype  \n",
      "---  ------                         --------------  -----  \n",
      " 0   Customer                       9134 non-null   object \n",
      " 1   State                          9134 non-null   object \n",
      " 2   Customer Lifetime Value        9134 non-null   float64\n",
      " 3   Response                       9134 non-null   object \n",
      " 4   Coverage                       9134 non-null   object \n",
      " 5   Education                      9134 non-null   object \n",
      " 6   Effective To Date              9134 non-null   object \n",
      " 7   EmploymentStatus               9134 non-null   object \n",
      " 8   Gender                         9134 non-null   object \n",
      " 9   Income                         9134 non-null   int64  \n",
      " 10  Location Code                  9134 non-null   object \n",
      " 11  Marital Status                 9134 non-null   object \n",
      " 12  Monthly Premium Auto           9134 non-null   int64  \n",
      " 13  Months Since Last Claim        9134 non-null   int64  \n",
      " 14  Months Since Policy Inception  9134 non-null   int64  \n",
      " 15  Number of Open Complaints      9134 non-null   int64  \n",
      " 16  Number of Policies             9134 non-null   int64  \n",
      " 17  Policy Type                    9134 non-null   object \n",
      " 18  Policy                         9134 non-null   object \n",
      " 19  Renew Offer Type               9134 non-null   object \n",
      " 20  Sales Channel                  9134 non-null   object \n",
      " 21  Total Claim Amount             9134 non-null   float64\n",
      " 22  Vehicle Class                  9134 non-null   object \n",
      " 23  Vehicle Size                   9134 non-null   object \n",
      "dtypes: float64(2), int64(6), object(16)\n",
      "memory usage: 1.7+ MB\n",
      "None\n"
     ]
    }
   ],
   "source": [
    "# List types for each attribute\n",
    "print(df.info())"
   ]
  },
  {
   "cell_type": "code",
   "execution_count": 5,
   "metadata": {},
   "outputs": [
    {
     "data": {
      "text/html": [
       "<div>\n",
       "<style scoped>\n",
       "    .dataframe tbody tr th:only-of-type {\n",
       "        vertical-align: middle;\n",
       "    }\n",
       "\n",
       "    .dataframe tbody tr th {\n",
       "        vertical-align: top;\n",
       "    }\n",
       "\n",
       "    .dataframe thead th {\n",
       "        text-align: right;\n",
       "    }\n",
       "</style>\n",
       "<table border=\"1\" class=\"dataframe\">\n",
       "  <thead>\n",
       "    <tr style=\"text-align: right;\">\n",
       "      <th></th>\n",
       "      <th>Customer</th>\n",
       "      <th>State</th>\n",
       "      <th>Customer Lifetime Value</th>\n",
       "      <th>Response</th>\n",
       "      <th>Coverage</th>\n",
       "      <th>Education</th>\n",
       "      <th>Effective To Date</th>\n",
       "      <th>EmploymentStatus</th>\n",
       "      <th>Gender</th>\n",
       "      <th>Income</th>\n",
       "      <th>...</th>\n",
       "      <th>Months Since Policy Inception</th>\n",
       "      <th>Number of Open Complaints</th>\n",
       "      <th>Number of Policies</th>\n",
       "      <th>Policy Type</th>\n",
       "      <th>Policy</th>\n",
       "      <th>Renew Offer Type</th>\n",
       "      <th>Sales Channel</th>\n",
       "      <th>Total Claim Amount</th>\n",
       "      <th>Vehicle Class</th>\n",
       "      <th>Vehicle Size</th>\n",
       "    </tr>\n",
       "  </thead>\n",
       "  <tbody>\n",
       "    <tr>\n",
       "      <th>0</th>\n",
       "      <td>BU79786</td>\n",
       "      <td>Washington</td>\n",
       "      <td>2763.519279</td>\n",
       "      <td>No</td>\n",
       "      <td>Basic</td>\n",
       "      <td>Bachelor</td>\n",
       "      <td>2/24/11</td>\n",
       "      <td>Employed</td>\n",
       "      <td>F</td>\n",
       "      <td>56274</td>\n",
       "      <td>...</td>\n",
       "      <td>5</td>\n",
       "      <td>0</td>\n",
       "      <td>1</td>\n",
       "      <td>Corporate Auto</td>\n",
       "      <td>Corporate L3</td>\n",
       "      <td>Offer1</td>\n",
       "      <td>Agent</td>\n",
       "      <td>384.811147</td>\n",
       "      <td>Two-Door Car</td>\n",
       "      <td>Medsize</td>\n",
       "    </tr>\n",
       "    <tr>\n",
       "      <th>1</th>\n",
       "      <td>QZ44356</td>\n",
       "      <td>Arizona</td>\n",
       "      <td>6979.535903</td>\n",
       "      <td>No</td>\n",
       "      <td>Extended</td>\n",
       "      <td>Bachelor</td>\n",
       "      <td>1/31/11</td>\n",
       "      <td>Unemployed</td>\n",
       "      <td>F</td>\n",
       "      <td>0</td>\n",
       "      <td>...</td>\n",
       "      <td>42</td>\n",
       "      <td>0</td>\n",
       "      <td>8</td>\n",
       "      <td>Personal Auto</td>\n",
       "      <td>Personal L3</td>\n",
       "      <td>Offer3</td>\n",
       "      <td>Agent</td>\n",
       "      <td>1131.464935</td>\n",
       "      <td>Four-Door Car</td>\n",
       "      <td>Medsize</td>\n",
       "    </tr>\n",
       "    <tr>\n",
       "      <th>2</th>\n",
       "      <td>AI49188</td>\n",
       "      <td>Nevada</td>\n",
       "      <td>12887.431650</td>\n",
       "      <td>No</td>\n",
       "      <td>Premium</td>\n",
       "      <td>Bachelor</td>\n",
       "      <td>2/19/11</td>\n",
       "      <td>Employed</td>\n",
       "      <td>F</td>\n",
       "      <td>48767</td>\n",
       "      <td>...</td>\n",
       "      <td>38</td>\n",
       "      <td>0</td>\n",
       "      <td>2</td>\n",
       "      <td>Personal Auto</td>\n",
       "      <td>Personal L3</td>\n",
       "      <td>Offer1</td>\n",
       "      <td>Agent</td>\n",
       "      <td>566.472247</td>\n",
       "      <td>Two-Door Car</td>\n",
       "      <td>Medsize</td>\n",
       "    </tr>\n",
       "    <tr>\n",
       "      <th>3</th>\n",
       "      <td>WW63253</td>\n",
       "      <td>California</td>\n",
       "      <td>7645.861827</td>\n",
       "      <td>No</td>\n",
       "      <td>Basic</td>\n",
       "      <td>Bachelor</td>\n",
       "      <td>1/20/11</td>\n",
       "      <td>Unemployed</td>\n",
       "      <td>M</td>\n",
       "      <td>0</td>\n",
       "      <td>...</td>\n",
       "      <td>65</td>\n",
       "      <td>0</td>\n",
       "      <td>7</td>\n",
       "      <td>Corporate Auto</td>\n",
       "      <td>Corporate L2</td>\n",
       "      <td>Offer1</td>\n",
       "      <td>Call Center</td>\n",
       "      <td>529.881344</td>\n",
       "      <td>SUV</td>\n",
       "      <td>Medsize</td>\n",
       "    </tr>\n",
       "    <tr>\n",
       "      <th>4</th>\n",
       "      <td>HB64268</td>\n",
       "      <td>Washington</td>\n",
       "      <td>2813.692575</td>\n",
       "      <td>No</td>\n",
       "      <td>Basic</td>\n",
       "      <td>Bachelor</td>\n",
       "      <td>3/2/2011</td>\n",
       "      <td>Employed</td>\n",
       "      <td>M</td>\n",
       "      <td>43836</td>\n",
       "      <td>...</td>\n",
       "      <td>44</td>\n",
       "      <td>0</td>\n",
       "      <td>1</td>\n",
       "      <td>Personal Auto</td>\n",
       "      <td>Personal L1</td>\n",
       "      <td>Offer1</td>\n",
       "      <td>Agent</td>\n",
       "      <td>138.130879</td>\n",
       "      <td>Four-Door Car</td>\n",
       "      <td>Medsize</td>\n",
       "    </tr>\n",
       "  </tbody>\n",
       "</table>\n",
       "<p>5 rows × 24 columns</p>\n",
       "</div>"
      ],
      "text/plain": [
       "  Customer       State  Customer Lifetime Value Response  Coverage Education  \\\n",
       "0  BU79786  Washington              2763.519279       No     Basic  Bachelor   \n",
       "1  QZ44356     Arizona              6979.535903       No  Extended  Bachelor   \n",
       "2  AI49188      Nevada             12887.431650       No   Premium  Bachelor   \n",
       "3  WW63253  California              7645.861827       No     Basic  Bachelor   \n",
       "4  HB64268  Washington              2813.692575       No     Basic  Bachelor   \n",
       "\n",
       "  Effective To Date EmploymentStatus Gender  Income  ...  \\\n",
       "0           2/24/11         Employed      F   56274  ...   \n",
       "1           1/31/11       Unemployed      F       0  ...   \n",
       "2           2/19/11         Employed      F   48767  ...   \n",
       "3           1/20/11       Unemployed      M       0  ...   \n",
       "4          3/2/2011         Employed      M   43836  ...   \n",
       "\n",
       "  Months Since Policy Inception Number of Open Complaints  Number of Policies  \\\n",
       "0                             5                         0                   1   \n",
       "1                            42                         0                   8   \n",
       "2                            38                         0                   2   \n",
       "3                            65                         0                   7   \n",
       "4                            44                         0                   1   \n",
       "\n",
       "      Policy Type        Policy  Renew Offer Type  Sales Channel  \\\n",
       "0  Corporate Auto  Corporate L3            Offer1          Agent   \n",
       "1   Personal Auto   Personal L3            Offer3          Agent   \n",
       "2   Personal Auto   Personal L3            Offer1          Agent   \n",
       "3  Corporate Auto  Corporate L2            Offer1    Call Center   \n",
       "4   Personal Auto   Personal L1            Offer1          Agent   \n",
       "\n",
       "  Total Claim Amount  Vehicle Class Vehicle Size  \n",
       "0         384.811147   Two-Door Car      Medsize  \n",
       "1        1131.464935  Four-Door Car      Medsize  \n",
       "2         566.472247   Two-Door Car      Medsize  \n",
       "3         529.881344            SUV      Medsize  \n",
       "4         138.130879  Four-Door Car      Medsize  \n",
       "\n",
       "[5 rows x 24 columns]"
      ]
     },
     "execution_count": 5,
     "metadata": {},
     "output_type": "execute_result"
    }
   ],
   "source": [
    "# Take a peek at the first rows of the data\n",
    "df.head()"
   ]
  },
  {
   "cell_type": "markdown",
   "metadata": {},
   "source": [
    "# Data Cleaning & Handling Variables Activity"
   ]
  },
  {
   "cell_type": "code",
   "execution_count": 6,
   "metadata": {},
   "outputs": [],
   "source": [
    "# Change format Date\n",
    "df_1 = df.copy()\n",
    "df_1['Effective_Date'] = pd.to_datetime(df_1['Effective To Date'])"
   ]
  },
  {
   "cell_type": "markdown",
   "metadata": {},
   "source": [
    "### Handling Missing Values"
   ]
  },
  {
   "cell_type": "code",
   "execution_count": 7,
   "metadata": {},
   "outputs": [
    {
     "data": {
      "text/plain": [
       "Customer                         0.0\n",
       "State                            0.0\n",
       "Customer Lifetime Value          0.0\n",
       "Response                         0.0\n",
       "Coverage                         0.0\n",
       "Education                        0.0\n",
       "Effective To Date                0.0\n",
       "EmploymentStatus                 0.0\n",
       "Gender                           0.0\n",
       "Income                           0.0\n",
       "Location Code                    0.0\n",
       "Marital Status                   0.0\n",
       "Monthly Premium Auto             0.0\n",
       "Months Since Last Claim          0.0\n",
       "Months Since Policy Inception    0.0\n",
       "Number of Open Complaints        0.0\n",
       "Number of Policies               0.0\n",
       "Policy Type                      0.0\n",
       "Policy                           0.0\n",
       "Renew Offer Type                 0.0\n",
       "Sales Channel                    0.0\n",
       "Total Claim Amount               0.0\n",
       "Vehicle Class                    0.0\n",
       "Vehicle Size                     0.0\n",
       "Effective_Date                   0.0\n",
       "dtype: float64"
      ]
     },
     "execution_count": 7,
     "metadata": {},
     "output_type": "execute_result"
    }
   ],
   "source": [
    "# Check missing values both to numeric features and categorical features \n",
    "missing = df_1.isnull().sum()/df_1.shape[0]*100\n",
    "missing"
   ]
  },
  {
   "cell_type": "code",
   "execution_count": 8,
   "metadata": {},
   "outputs": [
    {
     "data": {
      "text/plain": [
       "Timestamp('2011-01-01 00:00:00')"
      ]
     },
     "execution_count": 8,
     "metadata": {},
     "output_type": "execute_result"
    }
   ],
   "source": [
    "# Min Value Effective to Date Policy\n",
    "df_1['Effective_Date'].min()"
   ]
  },
  {
   "cell_type": "code",
   "execution_count": 9,
   "metadata": {},
   "outputs": [
    {
     "data": {
      "text/plain": [
       "Timestamp('2011-12-02 00:00:00')"
      ]
     },
     "execution_count": 9,
     "metadata": {},
     "output_type": "execute_result"
    }
   ],
   "source": [
    "# Max Value Effective to Date Policy\n",
    "df_1['Effective_Date'].max()"
   ]
  },
  {
   "cell_type": "code",
   "execution_count": 10,
   "metadata": {},
   "outputs": [],
   "source": [
    "# End of Year (eoy) of the current Effective to Date\n",
    "df_1['eoy_Effective_Date'] = pd.to_datetime('2011-12-31')"
   ]
  },
  {
   "cell_type": "code",
   "execution_count": 11,
   "metadata": {},
   "outputs": [],
   "source": [
    "# Days missing to the end of the current year from effective to date\n",
    "df_1['eoy_missing_days'] = (df_1['eoy_Effective_Date'] - df_1['Effective_Date']).dt.days"
   ]
  },
  {
   "cell_type": "code",
   "execution_count": 12,
   "metadata": {},
   "outputs": [],
   "source": [
    "# check duplicates\n",
    "df_1_duplicates = df_1[df_1.duplicated(['Customer'])]"
   ]
  },
  {
   "cell_type": "code",
   "execution_count": 13,
   "metadata": {},
   "outputs": [
    {
     "data": {
      "text/html": [
       "<div>\n",
       "<style scoped>\n",
       "    .dataframe tbody tr th:only-of-type {\n",
       "        vertical-align: middle;\n",
       "    }\n",
       "\n",
       "    .dataframe tbody tr th {\n",
       "        vertical-align: top;\n",
       "    }\n",
       "\n",
       "    .dataframe thead th {\n",
       "        text-align: right;\n",
       "    }\n",
       "</style>\n",
       "<table border=\"1\" class=\"dataframe\">\n",
       "  <thead>\n",
       "    <tr style=\"text-align: right;\">\n",
       "      <th></th>\n",
       "      <th>Customer</th>\n",
       "      <th>State</th>\n",
       "      <th>Customer Lifetime Value</th>\n",
       "      <th>Response</th>\n",
       "      <th>Coverage</th>\n",
       "      <th>Education</th>\n",
       "      <th>Effective To Date</th>\n",
       "      <th>EmploymentStatus</th>\n",
       "      <th>Gender</th>\n",
       "      <th>Income</th>\n",
       "      <th>...</th>\n",
       "      <th>Policy Type</th>\n",
       "      <th>Policy</th>\n",
       "      <th>Renew Offer Type</th>\n",
       "      <th>Sales Channel</th>\n",
       "      <th>Total Claim Amount</th>\n",
       "      <th>Vehicle Class</th>\n",
       "      <th>Vehicle Size</th>\n",
       "      <th>Effective_Date</th>\n",
       "      <th>eoy_Effective_Date</th>\n",
       "      <th>eoy_missing_days</th>\n",
       "    </tr>\n",
       "  </thead>\n",
       "  <tbody>\n",
       "  </tbody>\n",
       "</table>\n",
       "<p>0 rows × 27 columns</p>\n",
       "</div>"
      ],
      "text/plain": [
       "Empty DataFrame\n",
       "Columns: [Customer, State, Customer Lifetime Value, Response, Coverage, Education, Effective To Date, EmploymentStatus, Gender, Income, Location Code, Marital Status, Monthly Premium Auto, Months Since Last Claim, Months Since Policy Inception, Number of Open Complaints, Number of Policies, Policy Type, Policy, Renew Offer Type, Sales Channel, Total Claim Amount, Vehicle Class, Vehicle Size, Effective_Date, eoy_Effective_Date, eoy_missing_days]\n",
       "Index: []\n",
       "\n",
       "[0 rows x 27 columns]"
      ]
     },
     "execution_count": 13,
     "metadata": {},
     "output_type": "execute_result"
    }
   ],
   "source": [
    "df_1_duplicates"
   ]
  },
  {
   "cell_type": "code",
   "execution_count": 14,
   "metadata": {},
   "outputs": [],
   "source": [
    "df_1 = df_1.drop(['Customer','Effective To Date','eoy_Effective_Date'], axis=1)"
   ]
  },
  {
   "cell_type": "code",
   "execution_count": 15,
   "metadata": {},
   "outputs": [],
   "source": [
    "# Rename some features for a practical use\n",
    "df_new = df_1.copy()\n",
    "df_new = df_new.rename(columns={\"Customer Lifetime Value\":\"Customer_Lifetime_Value\",\"Location Code\":\"Location_Code\",\"Marital Status\":\"Marital_Status\",\"Monthly Premium Auto\":\"Monthly_Premium_Auto\",\"Months Since Last Claim\":\"Months_Since_Last_Claim\",\n",
    "                           \"Months Since Policy Inception\":\"Months_Since_Policy_Inception\",\"Number of Open Complaints\":\"Number_of_Open_Complaints\",\"Number of Policies\":\"Number_of_Policies\",\n",
    "                           \"Policy Type\":\"Policy_Type\",\"Renew Offer Type\":\"Renew_Offer_Type\",\"Sales Channel\":\"Sales_Channel\",\"Total Claim Amount\":\"Total_Claim_Amount\",\n",
    "                           \"Vehicle Class\":\"Vehicle_Class\",\"Vehicle Size\":\"Vehicle_Size\"})"
   ]
  },
  {
   "cell_type": "markdown",
   "metadata": {},
   "source": [
    "# Summary Statistics"
   ]
  },
  {
   "cell_type": "code",
   "execution_count": 16,
   "metadata": {},
   "outputs": [
    {
     "data": {
      "text/html": [
       "<div>\n",
       "<style scoped>\n",
       "    .dataframe tbody tr th:only-of-type {\n",
       "        vertical-align: middle;\n",
       "    }\n",
       "\n",
       "    .dataframe tbody tr th {\n",
       "        vertical-align: top;\n",
       "    }\n",
       "\n",
       "    .dataframe thead th {\n",
       "        text-align: right;\n",
       "    }\n",
       "</style>\n",
       "<table border=\"1\" class=\"dataframe\">\n",
       "  <thead>\n",
       "    <tr style=\"text-align: right;\">\n",
       "      <th></th>\n",
       "      <th>count</th>\n",
       "      <th>unique</th>\n",
       "      <th>top</th>\n",
       "      <th>freq</th>\n",
       "    </tr>\n",
       "  </thead>\n",
       "  <tbody>\n",
       "    <tr>\n",
       "      <th>State</th>\n",
       "      <td>9134</td>\n",
       "      <td>5</td>\n",
       "      <td>California</td>\n",
       "      <td>3150</td>\n",
       "    </tr>\n",
       "    <tr>\n",
       "      <th>Response</th>\n",
       "      <td>9134</td>\n",
       "      <td>2</td>\n",
       "      <td>No</td>\n",
       "      <td>7826</td>\n",
       "    </tr>\n",
       "    <tr>\n",
       "      <th>Coverage</th>\n",
       "      <td>9134</td>\n",
       "      <td>3</td>\n",
       "      <td>Basic</td>\n",
       "      <td>5568</td>\n",
       "    </tr>\n",
       "    <tr>\n",
       "      <th>Education</th>\n",
       "      <td>9134</td>\n",
       "      <td>5</td>\n",
       "      <td>Bachelor</td>\n",
       "      <td>2748</td>\n",
       "    </tr>\n",
       "    <tr>\n",
       "      <th>EmploymentStatus</th>\n",
       "      <td>9134</td>\n",
       "      <td>5</td>\n",
       "      <td>Employed</td>\n",
       "      <td>5698</td>\n",
       "    </tr>\n",
       "    <tr>\n",
       "      <th>Gender</th>\n",
       "      <td>9134</td>\n",
       "      <td>2</td>\n",
       "      <td>F</td>\n",
       "      <td>4658</td>\n",
       "    </tr>\n",
       "    <tr>\n",
       "      <th>Location_Code</th>\n",
       "      <td>9134</td>\n",
       "      <td>3</td>\n",
       "      <td>Suburban</td>\n",
       "      <td>5779</td>\n",
       "    </tr>\n",
       "    <tr>\n",
       "      <th>Marital_Status</th>\n",
       "      <td>9134</td>\n",
       "      <td>3</td>\n",
       "      <td>Married</td>\n",
       "      <td>5298</td>\n",
       "    </tr>\n",
       "    <tr>\n",
       "      <th>Policy_Type</th>\n",
       "      <td>9134</td>\n",
       "      <td>3</td>\n",
       "      <td>Personal Auto</td>\n",
       "      <td>6788</td>\n",
       "    </tr>\n",
       "    <tr>\n",
       "      <th>Policy</th>\n",
       "      <td>9134</td>\n",
       "      <td>9</td>\n",
       "      <td>Personal L3</td>\n",
       "      <td>3426</td>\n",
       "    </tr>\n",
       "    <tr>\n",
       "      <th>Renew_Offer_Type</th>\n",
       "      <td>9134</td>\n",
       "      <td>4</td>\n",
       "      <td>Offer1</td>\n",
       "      <td>3752</td>\n",
       "    </tr>\n",
       "    <tr>\n",
       "      <th>Sales_Channel</th>\n",
       "      <td>9134</td>\n",
       "      <td>4</td>\n",
       "      <td>Agent</td>\n",
       "      <td>3477</td>\n",
       "    </tr>\n",
       "    <tr>\n",
       "      <th>Vehicle_Class</th>\n",
       "      <td>9134</td>\n",
       "      <td>6</td>\n",
       "      <td>Four-Door Car</td>\n",
       "      <td>4621</td>\n",
       "    </tr>\n",
       "    <tr>\n",
       "      <th>Vehicle_Size</th>\n",
       "      <td>9134</td>\n",
       "      <td>3</td>\n",
       "      <td>Medsize</td>\n",
       "      <td>6424</td>\n",
       "    </tr>\n",
       "  </tbody>\n",
       "</table>\n",
       "</div>"
      ],
      "text/plain": [
       "                 count unique            top  freq\n",
       "State             9134      5     California  3150\n",
       "Response          9134      2             No  7826\n",
       "Coverage          9134      3          Basic  5568\n",
       "Education         9134      5       Bachelor  2748\n",
       "EmploymentStatus  9134      5       Employed  5698\n",
       "Gender            9134      2              F  4658\n",
       "Location_Code     9134      3       Suburban  5779\n",
       "Marital_Status    9134      3        Married  5298\n",
       "Policy_Type       9134      3  Personal Auto  6788\n",
       "Policy            9134      9    Personal L3  3426\n",
       "Renew_Offer_Type  9134      4         Offer1  3752\n",
       "Sales_Channel     9134      4          Agent  3477\n",
       "Vehicle_Class     9134      6  Four-Door Car  4621\n",
       "Vehicle_Size      9134      3        Medsize  6424"
      ]
     },
     "execution_count": 16,
     "metadata": {},
     "output_type": "execute_result"
    }
   ],
   "source": [
    "# Summarize attribute distributions for data type of variables\n",
    "obj_cols = [var for var in df_new.columns if df_new[var].dtype=='object']\n",
    "df_new[obj_cols].describe().T"
   ]
  },
  {
   "cell_type": "code",
   "execution_count": 17,
   "metadata": {},
   "outputs": [
    {
     "data": {
      "text/html": [
       "<div>\n",
       "<style scoped>\n",
       "    .dataframe tbody tr th:only-of-type {\n",
       "        vertical-align: middle;\n",
       "    }\n",
       "\n",
       "    .dataframe tbody tr th {\n",
       "        vertical-align: top;\n",
       "    }\n",
       "\n",
       "    .dataframe thead th {\n",
       "        text-align: right;\n",
       "    }\n",
       "</style>\n",
       "<table border=\"1\" class=\"dataframe\">\n",
       "  <thead>\n",
       "    <tr style=\"text-align: right;\">\n",
       "      <th></th>\n",
       "      <th>count</th>\n",
       "      <th>mean</th>\n",
       "      <th>std</th>\n",
       "      <th>min</th>\n",
       "      <th>25%</th>\n",
       "      <th>50%</th>\n",
       "      <th>75%</th>\n",
       "      <th>max</th>\n",
       "    </tr>\n",
       "  </thead>\n",
       "  <tbody>\n",
       "    <tr>\n",
       "      <th>Customer_Lifetime_Value</th>\n",
       "      <td>9134.0</td>\n",
       "      <td>8004.940475</td>\n",
       "      <td>6870.967608</td>\n",
       "      <td>1898.007675</td>\n",
       "      <td>3994.251794</td>\n",
       "      <td>5780.182197</td>\n",
       "      <td>8962.167041</td>\n",
       "      <td>83325.381190</td>\n",
       "    </tr>\n",
       "    <tr>\n",
       "      <th>Income</th>\n",
       "      <td>9134.0</td>\n",
       "      <td>37657.380009</td>\n",
       "      <td>30379.904734</td>\n",
       "      <td>0.000000</td>\n",
       "      <td>0.000000</td>\n",
       "      <td>33889.500000</td>\n",
       "      <td>62320.000000</td>\n",
       "      <td>99981.000000</td>\n",
       "    </tr>\n",
       "    <tr>\n",
       "      <th>Monthly_Premium_Auto</th>\n",
       "      <td>9134.0</td>\n",
       "      <td>93.219291</td>\n",
       "      <td>34.407967</td>\n",
       "      <td>61.000000</td>\n",
       "      <td>68.000000</td>\n",
       "      <td>83.000000</td>\n",
       "      <td>109.000000</td>\n",
       "      <td>298.000000</td>\n",
       "    </tr>\n",
       "    <tr>\n",
       "      <th>Months_Since_Last_Claim</th>\n",
       "      <td>9134.0</td>\n",
       "      <td>15.097000</td>\n",
       "      <td>10.073257</td>\n",
       "      <td>0.000000</td>\n",
       "      <td>6.000000</td>\n",
       "      <td>14.000000</td>\n",
       "      <td>23.000000</td>\n",
       "      <td>35.000000</td>\n",
       "    </tr>\n",
       "    <tr>\n",
       "      <th>Months_Since_Policy_Inception</th>\n",
       "      <td>9134.0</td>\n",
       "      <td>48.064594</td>\n",
       "      <td>27.905991</td>\n",
       "      <td>0.000000</td>\n",
       "      <td>24.000000</td>\n",
       "      <td>48.000000</td>\n",
       "      <td>71.000000</td>\n",
       "      <td>99.000000</td>\n",
       "    </tr>\n",
       "    <tr>\n",
       "      <th>Number_of_Open_Complaints</th>\n",
       "      <td>9134.0</td>\n",
       "      <td>0.384388</td>\n",
       "      <td>0.910384</td>\n",
       "      <td>0.000000</td>\n",
       "      <td>0.000000</td>\n",
       "      <td>0.000000</td>\n",
       "      <td>0.000000</td>\n",
       "      <td>5.000000</td>\n",
       "    </tr>\n",
       "    <tr>\n",
       "      <th>Number_of_Policies</th>\n",
       "      <td>9134.0</td>\n",
       "      <td>2.966170</td>\n",
       "      <td>2.390182</td>\n",
       "      <td>1.000000</td>\n",
       "      <td>1.000000</td>\n",
       "      <td>2.000000</td>\n",
       "      <td>4.000000</td>\n",
       "      <td>9.000000</td>\n",
       "    </tr>\n",
       "    <tr>\n",
       "      <th>Total_Claim_Amount</th>\n",
       "      <td>9134.0</td>\n",
       "      <td>434.088794</td>\n",
       "      <td>290.500092</td>\n",
       "      <td>0.099007</td>\n",
       "      <td>272.258244</td>\n",
       "      <td>383.945434</td>\n",
       "      <td>547.514839</td>\n",
       "      <td>2893.239678</td>\n",
       "    </tr>\n",
       "    <tr>\n",
       "      <th>eoy_missing_days</th>\n",
       "      <td>9134.0</td>\n",
       "      <td>276.667068</td>\n",
       "      <td>93.820412</td>\n",
       "      <td>29.000000</td>\n",
       "      <td>244.000000</td>\n",
       "      <td>315.000000</td>\n",
       "      <td>340.000000</td>\n",
       "      <td>364.000000</td>\n",
       "    </tr>\n",
       "  </tbody>\n",
       "</table>\n",
       "</div>"
      ],
      "text/plain": [
       "                                count          mean           std  \\\n",
       "Customer_Lifetime_Value        9134.0   8004.940475   6870.967608   \n",
       "Income                         9134.0  37657.380009  30379.904734   \n",
       "Monthly_Premium_Auto           9134.0     93.219291     34.407967   \n",
       "Months_Since_Last_Claim        9134.0     15.097000     10.073257   \n",
       "Months_Since_Policy_Inception  9134.0     48.064594     27.905991   \n",
       "Number_of_Open_Complaints      9134.0      0.384388      0.910384   \n",
       "Number_of_Policies             9134.0      2.966170      2.390182   \n",
       "Total_Claim_Amount             9134.0    434.088794    290.500092   \n",
       "eoy_missing_days               9134.0    276.667068     93.820412   \n",
       "\n",
       "                                       min          25%           50%  \\\n",
       "Customer_Lifetime_Value        1898.007675  3994.251794   5780.182197   \n",
       "Income                            0.000000     0.000000  33889.500000   \n",
       "Monthly_Premium_Auto             61.000000    68.000000     83.000000   \n",
       "Months_Since_Last_Claim           0.000000     6.000000     14.000000   \n",
       "Months_Since_Policy_Inception     0.000000    24.000000     48.000000   \n",
       "Number_of_Open_Complaints         0.000000     0.000000      0.000000   \n",
       "Number_of_Policies                1.000000     1.000000      2.000000   \n",
       "Total_Claim_Amount                0.099007   272.258244    383.945434   \n",
       "eoy_missing_days                 29.000000   244.000000    315.000000   \n",
       "\n",
       "                                        75%           max  \n",
       "Customer_Lifetime_Value         8962.167041  83325.381190  \n",
       "Income                         62320.000000  99981.000000  \n",
       "Monthly_Premium_Auto             109.000000    298.000000  \n",
       "Months_Since_Last_Claim           23.000000     35.000000  \n",
       "Months_Since_Policy_Inception     71.000000     99.000000  \n",
       "Number_of_Open_Complaints          0.000000      5.000000  \n",
       "Number_of_Policies                 4.000000      9.000000  \n",
       "Total_Claim_Amount               547.514839   2893.239678  \n",
       "eoy_missing_days                 340.000000    364.000000  "
      ]
     },
     "execution_count": 17,
     "metadata": {},
     "output_type": "execute_result"
    }
   ],
   "source": [
    "# Summarize attribute distributions for data type of variables\n",
    "no_obj_cols = [var for var in df_new.columns if df_new[var].dtype!='object']\n",
    "df_new[no_obj_cols].describe().T"
   ]
  },
  {
   "cell_type": "code",
   "execution_count": 18,
   "metadata": {},
   "outputs": [],
   "source": [
    "# Split data set between target variable and features\n",
    "X_full = df_new.copy()\n",
    "y = X_full.Customer_Lifetime_Value\n",
    "X_full.drop(['Customer_Lifetime_Value'], axis=1, inplace=True)"
   ]
  },
  {
   "cell_type": "code",
   "execution_count": 19,
   "metadata": {},
   "outputs": [],
   "source": [
    "# Select numerical columns\n",
    "numerical_cols = [cname for cname in X_full.columns if \n",
    "                X_full[cname].dtype in ['float64','int64']]"
   ]
  },
  {
   "cell_type": "code",
   "execution_count": 20,
   "metadata": {},
   "outputs": [
    {
     "data": {
      "text/plain": [
       "Index(['Income', 'Monthly_Premium_Auto', 'Months_Since_Last_Claim',\n",
       "       'Months_Since_Policy_Inception', 'Number_of_Open_Complaints',\n",
       "       'Number_of_Policies', 'Total_Claim_Amount', 'eoy_missing_days'],\n",
       "      dtype='object')"
      ]
     },
     "execution_count": 20,
     "metadata": {},
     "output_type": "execute_result"
    }
   ],
   "source": [
    "# Subset with numerical features\n",
    "num = X_full[numerical_cols]\n",
    "num.columns"
   ]
  },
  {
   "cell_type": "code",
   "execution_count": 21,
   "metadata": {},
   "outputs": [],
   "source": [
    "# Select categorical columns with relatively low cardinality (convenient but arbitrary)\n",
    "categorical_cols = [cname for cname in X_full.columns if\n",
    "                    X_full[cname].nunique() <= 15 and \n",
    "                    X_full[cname].dtype == \"object\"]"
   ]
  },
  {
   "cell_type": "code",
   "execution_count": 22,
   "metadata": {},
   "outputs": [
    {
     "data": {
      "text/plain": [
       "Index(['State', 'Response', 'Coverage', 'Education', 'EmploymentStatus',\n",
       "       'Gender', 'Location_Code', 'Marital_Status', 'Policy_Type', 'Policy',\n",
       "       'Renew_Offer_Type', 'Sales_Channel', 'Vehicle_Class', 'Vehicle_Size'],\n",
       "      dtype='object')"
      ]
     },
     "execution_count": 22,
     "metadata": {},
     "output_type": "execute_result"
    }
   ],
   "source": [
    "# Subset with categorical features\n",
    "cat = X_full[categorical_cols]\n",
    "cat.columns\n"
   ]
  },
  {
   "cell_type": "markdown",
   "metadata": {},
   "source": [
    "# Pre-Processing on all data set"
   ]
  },
  {
   "cell_type": "markdown",
   "metadata": {},
   "source": [
    "### One-Hot Encoding into k-1 dummy variables"
   ]
  },
  {
   "cell_type": "code",
   "execution_count": 23,
   "metadata": {},
   "outputs": [],
   "source": [
    "# Encode the categorical data \n",
    "dummy_cat = pd.concat([pd.get_dummies(cat.State, prefix='State',drop_first=True), \n",
    "                       pd.get_dummies(cat.Coverage, prefix= 'Coverage', drop_first=True), \n",
    "                       pd.get_dummies(cat.Response, prefix= 'Response', drop_first=True),\n",
    "                       pd.get_dummies(cat.Education, prefix='Education',drop_first=True),\n",
    "                       pd.get_dummies(cat.EmploymentStatus, prefix='EmploymentStatus',drop_first=True),\n",
    "                       pd.get_dummies(cat.Gender, prefix='Gender',drop_first=True),\n",
    "                       pd.get_dummies(cat.Location_Code, prefix='Location_Code',drop_first=True),\n",
    "                       pd.get_dummies(cat.Marital_Status, prefix='Marital_Status',drop_first=True),\n",
    "                       pd.get_dummies(cat.Policy_Type, prefix='Policy_Type',drop_first=True),\n",
    "                       pd.get_dummies(cat.Policy, prefix='Policy',drop_first=True),\n",
    "                       pd.get_dummies(cat.Renew_Offer_Type, prefix='Renew_Offer_Type',drop_first=True),\n",
    "                       pd.get_dummies(cat.Sales_Channel, prefix='Sales_Channel',drop_first=True),\n",
    "                       pd.get_dummies(cat.Vehicle_Size, prefix='Vehicle_Size',drop_first=True),\n",
    "                       pd.get_dummies(cat.Vehicle_Class, prefix='Vehicle_Class',drop_first=True)], axis=1)\n",
    "dummy_cat = dummy_cat.astype(int)"
   ]
  },
  {
   "cell_type": "code",
   "execution_count": 24,
   "metadata": {},
   "outputs": [],
   "source": [
    "# Grasp all\n",
    "X_all = pd.concat([dummy_cat, num], axis=1)"
   ]
  },
  {
   "cell_type": "markdown",
   "metadata": {},
   "source": [
    "### Zero/Close Zero Variance Predictors"
   ]
  },
  {
   "cell_type": "code",
   "execution_count": 25,
   "metadata": {},
   "outputs": [
    {
     "data": {
      "text/plain": [
       "['Education_Doctor',\n",
       " 'EmploymentStatus_Medical Leave',\n",
       " 'EmploymentStatus_Retired',\n",
       " 'Policy_Type_Special Auto',\n",
       " 'Policy_Special L1',\n",
       " 'Policy_Special L2',\n",
       " 'Policy_Special L3',\n",
       " 'Vehicle_Class_Luxury Car',\n",
       " 'Vehicle_Class_Luxury SUV']"
      ]
     },
     "execution_count": 25,
     "metadata": {},
     "output_type": "execute_result"
    }
   ],
   "source": [
    "# Find features with variance equal zero or lower than 0.05\n",
    "to_drop = [col for col in X_all.columns if np.var(X_all[col]) < 0.05]\n",
    "to_drop"
   ]
  },
  {
   "cell_type": "code",
   "execution_count": 26,
   "metadata": {},
   "outputs": [],
   "source": [
    "# Drop features \n",
    "X_all = X_all.drop(X_all[to_drop], axis=1)"
   ]
  },
  {
   "cell_type": "code",
   "execution_count": 27,
   "metadata": {},
   "outputs": [
    {
     "data": {
      "text/plain": [
       "(9134, 42)"
      ]
     },
     "execution_count": 27,
     "metadata": {},
     "output_type": "execute_result"
    }
   ],
   "source": [
    "# Look at the new data set\n",
    "X_all.shape"
   ]
  },
  {
   "cell_type": "markdown",
   "metadata": {},
   "source": [
    "### Correlated Predictors"
   ]
  },
  {
   "cell_type": "code",
   "execution_count": 28,
   "metadata": {},
   "outputs": [],
   "source": [
    "# Correlation heatmap\n",
    "corr_matrix = X_all.corr()"
   ]
  },
  {
   "cell_type": "code",
   "execution_count": 29,
   "metadata": {},
   "outputs": [
    {
     "data": {
      "text/plain": [
       "['EmploymentStatus_Unemployed', 'Vehicle_Size_Small', 'Income']"
      ]
     },
     "execution_count": 29,
     "metadata": {},
     "output_type": "execute_result"
    }
   ],
   "source": [
    "# Select correlated features and removed it\n",
    "# Select upper triangle of correlation matrix\n",
    "upper = corr_matrix.where(np.triu(np.ones(corr_matrix.shape), k=1).astype(np.bool))\n",
    "# Find index of feature columns with correlation greater than 0.75\n",
    "to_drop = [column for column in upper.columns if any(upper[column].abs() > 0.75)]\n",
    "to_drop"
   ]
  },
  {
   "cell_type": "code",
   "execution_count": 30,
   "metadata": {},
   "outputs": [],
   "source": [
    "# Drop features \n",
    "X_all = X_all.drop(X_all[to_drop], axis=1)"
   ]
  },
  {
   "cell_type": "code",
   "execution_count": 31,
   "metadata": {},
   "outputs": [
    {
     "data": {
      "text/plain": [
       "(9134, 39)"
      ]
     },
     "execution_count": 31,
     "metadata": {},
     "output_type": "execute_result"
    }
   ],
   "source": [
    "# Look at the new data set\n",
    "X_all.shape"
   ]
  },
  {
   "cell_type": "markdown",
   "metadata": {},
   "source": [
    "# Flat Modeling & Prediction "
   ]
  },
  {
   "cell_type": "code",
   "execution_count": 32,
   "metadata": {},
   "outputs": [],
   "source": [
    "# Normalization of data\n",
    "scaling = MinMaxScaler()"
   ]
  },
  {
   "cell_type": "code",
   "execution_count": 33,
   "metadata": {},
   "outputs": [],
   "source": [
    "all = pd.concat([df_new[['Customer_Lifetime_Value','Effective_Date']], X_all], axis=1)"
   ]
  },
  {
   "cell_type": "code",
   "execution_count": 34,
   "metadata": {},
   "outputs": [],
   "source": [
    "# Split data set train/test set:test set is built on the last 3 months to the end of the year \n",
    "train = all[all['Effective_Date'] <= '2011-09-30']\n",
    "test = all[all['Effective_Date'] >= '2011-10-01']\n",
    "train['month'] = pd.DatetimeIndex(train['Effective_Date']).month\n",
    "test['month'] = pd.DatetimeIndex(test['Effective_Date']).month\n",
    "train = train.drop(['Effective_Date'], axis=1)\n",
    "test = test.drop(['Effective_Date'], axis=1)\n"
   ]
  },
  {
   "cell_type": "code",
   "execution_count": 35,
   "metadata": {},
   "outputs": [],
   "source": [
    "# Create a month list \n",
    "month = test['month'].tolist()\n",
    "\n",
    "# Subsetting\n",
    "def subtable(test,month):\n",
    "    return (test[(test['month'] == month)])\n",
    "\n",
    "# Subsetting test\n",
    "test_1 = subtable(test, 10)\n",
    "test_2 = subtable(test, 11)\n",
    "test_3 = subtable(test, 12)\n"
   ]
  },
  {
   "cell_type": "code",
   "execution_count": 36,
   "metadata": {},
   "outputs": [],
   "source": [
    "# 10-2011\n",
    "X_train = train.copy()\n",
    "y_train = X_train.Customer_Lifetime_Value\n",
    "X_train.drop(['Customer_Lifetime_Value'], axis=1, inplace=True)\n",
    "# Normalization of data\n",
    "X_train_sc = scaling.fit_transform(X_train)\n",
    "X_test = test_1.copy()\n",
    "y_test = X_test.Customer_Lifetime_Value\n",
    "X_test.drop(['Customer_Lifetime_Value'], axis=1, inplace=True)\n",
    "# Normalization of data\n",
    "X_test_sc = scaling.transform(X_test)\n",
    "month = '10-2011'\n",
    "model = GradientBoostingRegressor(random_state=0)\n",
    "kf = KFold(n_splits=5)\n",
    "param_grid = {}\n",
    "score = []\n",
    "my_model = GridSearchCV(model,param_grid,cv=kf)\n",
    "my_model.fit(X_train_sc, y_train)\n",
    "predictions_tr = my_model.predict(X_train_sc) \n",
    "predictions_te = my_model.predict(X_test_sc)\n",
    "CLV_predict = predictions_te\n",
    "mae_train = median_absolute_error(y_train, predictions_tr)\n",
    "mae_test = median_absolute_error(y_test, predictions_te)\n",
    "score_dict = {\n",
    "        'month': month,\n",
    "        'mae_train': mae_train,\n",
    "        'mae_test': mae_test\n",
    "    }\n",
    "score.append(score_dict)\n",
    "score_1 = pd.DataFrame(score, columns = ['month','mae_train', 'mae_test'])\n",
    "predictions_te_1 = pd.DataFrame(predictions_te, columns = ['Customer_Lifetime_Value_predict_flat'])\n",
    "X_test = X_test.reset_index(drop=True)\n",
    "pred_1 = pd.concat([predictions_te_1, X_test], axis=1)\n"
   ]
  },
  {
   "cell_type": "code",
   "execution_count": 37,
   "metadata": {},
   "outputs": [],
   "source": [
    "# 11-2011\n",
    "X_train = train.copy()\n",
    "X_train = X_train.append(test_1)\n",
    "y_train = X_train.Customer_Lifetime_Value\n",
    "X_train.drop(['Customer_Lifetime_Value'], axis=1, inplace=True)\n",
    "# Normalization of data\n",
    "X_train_sc = scaling.fit_transform(X_train)\n",
    "X_test = test_2.copy()\n",
    "y_test = X_test.Customer_Lifetime_Value\n",
    "X_test.drop(['Customer_Lifetime_Value'], axis=1, inplace=True)\n",
    "# Normalization of data\n",
    "X_test_sc = scaling.transform(X_test)\n",
    "month = '11-2011'\n",
    "model = GradientBoostingRegressor(random_state=0)\n",
    "kf = KFold(n_splits=5)\n",
    "param_grid = {}\n",
    "score = []\n",
    "my_model = GridSearchCV(model,param_grid,cv=kf)\n",
    "my_model.fit(X_train_sc, y_train)\n",
    "predictions_tr = my_model.predict(X_train_sc) \n",
    "predictions_te = my_model.predict(X_test_sc)\n",
    "CLV_predict = predictions_te\n",
    "mae_train = median_absolute_error(y_train, predictions_tr)\n",
    "mae_test = median_absolute_error(y_test, predictions_te)\n",
    "score_dict = {\n",
    "        'month': month,\n",
    "        'mae_train': mae_train,\n",
    "        'mae_test': mae_test\n",
    "    }\n",
    "score.append(score_dict)\n",
    "score_2 = pd.DataFrame(score, columns = ['month','mae_train', 'mae_test'])\n",
    "predictions_te_2 = pd.DataFrame(predictions_te, columns = ['Customer_Lifetime_Value_predict_flat'])\n",
    "X_test = X_test.reset_index(drop=True)\n",
    "pred_2 = pd.concat([predictions_te_2, X_test], axis=1)\n"
   ]
  },
  {
   "cell_type": "code",
   "execution_count": 38,
   "metadata": {},
   "outputs": [],
   "source": [
    "# 12-2011\n",
    "X_train = train.copy()\n",
    "X_train = X_train.append([test_1,test_2])\n",
    "y_train = X_train.Customer_Lifetime_Value\n",
    "X_train.drop(['Customer_Lifetime_Value'], axis=1, inplace=True)\n",
    "# Normalization of data\n",
    "X_train_sc = scaling.fit_transform(X_train)\n",
    "X_test = test_3.copy()\n",
    "y_test = X_test.Customer_Lifetime_Value\n",
    "X_test.drop(['Customer_Lifetime_Value'], axis=1, inplace=True)\n",
    "# Normalization of data\n",
    "X_test_sc = scaling.transform(X_test)\n",
    "month = '12-2011'\n",
    "model = GradientBoostingRegressor(random_state=0)\n",
    "kf = KFold(n_splits=5)\n",
    "param_grid = {}\n",
    "score = []\n",
    "my_model = GridSearchCV(model,param_grid,cv=kf)\n",
    "my_model.fit(X_train_sc, y_train)\n",
    "predictions_tr = my_model.predict(X_train_sc) \n",
    "predictions_te = my_model.predict(X_test_sc)\n",
    "CLV_predict = predictions_te\n",
    "mae_train = median_absolute_error(y_train, predictions_tr)\n",
    "mae_test = median_absolute_error(y_test, predictions_te)\n",
    "score_dict = {\n",
    "        'month': month,\n",
    "        'mae_train': mae_train,\n",
    "        'mae_test': mae_test\n",
    "    }\n",
    "score.append(score_dict)\n",
    "score_3 = pd.DataFrame(score, columns = ['month','mae_train', 'mae_test'])\n",
    "predictions_te_3 = pd.DataFrame(predictions_te, columns = ['Customer_Lifetime_Value_predict_flat'])\n",
    "X_test = X_test.reset_index(drop=True)\n",
    "pred_3 = pd.concat([predictions_te_3, X_test], axis=1)\n"
   ]
  },
  {
   "cell_type": "markdown",
   "metadata": {},
   "source": [
    "### Results Analysis"
   ]
  },
  {
   "cell_type": "code",
   "execution_count": 39,
   "metadata": {},
   "outputs": [
    {
     "data": {
      "text/html": [
       "<div>\n",
       "<style scoped>\n",
       "    .dataframe tbody tr th:only-of-type {\n",
       "        vertical-align: middle;\n",
       "    }\n",
       "\n",
       "    .dataframe tbody tr th {\n",
       "        vertical-align: top;\n",
       "    }\n",
       "\n",
       "    .dataframe thead th {\n",
       "        text-align: right;\n",
       "    }\n",
       "</style>\n",
       "<table border=\"1\" class=\"dataframe\">\n",
       "  <thead>\n",
       "    <tr style=\"text-align: right;\">\n",
       "      <th></th>\n",
       "      <th>month</th>\n",
       "      <th>mae_train</th>\n",
       "      <th>mae_test</th>\n",
       "    </tr>\n",
       "  </thead>\n",
       "  <tbody>\n",
       "    <tr>\n",
       "      <th>0</th>\n",
       "      <td>10-2011</td>\n",
       "      <td>271.382803</td>\n",
       "      <td>232.762117</td>\n",
       "    </tr>\n",
       "    <tr>\n",
       "      <th>0</th>\n",
       "      <td>11-2011</td>\n",
       "      <td>275.156151</td>\n",
       "      <td>279.520001</td>\n",
       "    </tr>\n",
       "    <tr>\n",
       "      <th>0</th>\n",
       "      <td>12-2011</td>\n",
       "      <td>253.298170</td>\n",
       "      <td>306.592178</td>\n",
       "    </tr>\n",
       "  </tbody>\n",
       "</table>\n",
       "</div>"
      ],
      "text/plain": [
       "     month   mae_train    mae_test\n",
       "0  10-2011  271.382803  232.762117\n",
       "0  11-2011  275.156151  279.520001\n",
       "0  12-2011  253.298170  306.592178"
      ]
     },
     "execution_count": 39,
     "metadata": {},
     "output_type": "execute_result"
    }
   ],
   "source": [
    "predictions_te_flat = pd.concat([predictions_te_1,predictions_te_2,predictions_te_3], axis=0)\n",
    "score_3M = pd.concat([score_1,score_2,score_3], axis=0)\n",
    "score_3M"
   ]
  },
  {
   "cell_type": "code",
   "execution_count": 40,
   "metadata": {},
   "outputs": [
    {
     "data": {
      "text/plain": [
       "266.6123743486675"
      ]
     },
     "execution_count": 40,
     "metadata": {},
     "output_type": "execute_result"
    }
   ],
   "source": [
    "score_3M['mae_train'].mean()"
   ]
  },
  {
   "cell_type": "code",
   "execution_count": 41,
   "metadata": {},
   "outputs": [
    {
     "data": {
      "text/plain": [
       "272.9580985005762"
      ]
     },
     "execution_count": 41,
     "metadata": {},
     "output_type": "execute_result"
    }
   ],
   "source": [
    "score_3M['mae_test'].mean()"
   ]
  },
  {
   "cell_type": "code",
   "execution_count": 42,
   "metadata": {},
   "outputs": [],
   "source": [
    "test_df = all[all['Effective_Date'] >= '2011-10-01']\n",
    "test_df = pd.concat([test_df, predictions_te_flat.set_index(test.index)], axis=1)\n",
    "test_2 = df_new[df_new['Effective_Date'] >= '2011-10-01']\n",
    "test_2_df = pd.concat([test_2, predictions_te_flat.set_index(test.index)], axis=1)"
   ]
  },
  {
   "cell_type": "markdown",
   "metadata": {},
   "source": [
    "# PCA Modeling & Prediction "
   ]
  },
  {
   "cell_type": "code",
   "execution_count": 43,
   "metadata": {},
   "outputs": [],
   "source": [
    "# Normalization of data\n",
    "X_all_sc = scaling.fit_transform(X_all)"
   ]
  },
  {
   "cell_type": "code",
   "execution_count": 44,
   "metadata": {},
   "outputs": [],
   "source": [
    "X_all_sc_df = pd.DataFrame(X_all_sc, columns = X_all.columns)"
   ]
  },
  {
   "cell_type": "code",
   "execution_count": 45,
   "metadata": {},
   "outputs": [],
   "source": [
    "pca = PCA(0.90, random_state=0)"
   ]
  },
  {
   "cell_type": "code",
   "execution_count": 46,
   "metadata": {},
   "outputs": [],
   "source": [
    "pca_X_all_sc = pca.fit_transform(X_all_sc)"
   ]
  },
  {
   "cell_type": "code",
   "execution_count": 47,
   "metadata": {},
   "outputs": [
    {
     "data": {
      "text/plain": [
       "26"
      ]
     },
     "execution_count": 47,
     "metadata": {},
     "output_type": "execute_result"
    }
   ],
   "source": [
    "pca.n_components_"
   ]
  },
  {
   "cell_type": "code",
   "execution_count": 48,
   "metadata": {},
   "outputs": [],
   "source": [
    "pca_df = pd.DataFrame(data = pca_X_all_sc, columns = ['pca'+str(i) for i in range(pca_X_all_sc.shape[1])])"
   ]
  },
  {
   "cell_type": "code",
   "execution_count": 49,
   "metadata": {},
   "outputs": [
    {
     "name": "stdout",
     "output_type": "stream",
     "text": [
      "Explained variation per principal component: [0.0912326  0.06326121 0.05609743 0.05492208 0.05019354 0.04777269\n",
      " 0.04621492 0.0445933  0.04257213 0.03865817 0.03812046 0.03461229\n",
      " 0.02965867 0.02847749 0.02781658 0.02675401 0.0244996  0.02383272\n",
      " 0.0219871  0.02067886 0.01659364 0.01616627 0.01540152 0.01513005\n",
      " 0.01461322 0.01413997]\n"
     ]
    }
   ],
   "source": [
    "print('Explained variation per principal component: {}'.format(pca.explained_variance_ratio_))"
   ]
  },
  {
   "cell_type": "code",
   "execution_count": 50,
   "metadata": {},
   "outputs": [],
   "source": [
    "#X_all_pca = pd.concat([pca_df, X_all], axis = 1)"
   ]
  },
  {
   "cell_type": "code",
   "execution_count": 51,
   "metadata": {},
   "outputs": [],
   "source": [
    "# Check correlation with new features \n",
    "corr_matrix_pca = pca_df.corr()"
   ]
  },
  {
   "cell_type": "code",
   "execution_count": 52,
   "metadata": {},
   "outputs": [
    {
     "data": {
      "text/plain": [
       "[]"
      ]
     },
     "execution_count": 52,
     "metadata": {},
     "output_type": "execute_result"
    }
   ],
   "source": [
    "# Select correlated features and removed it\n",
    "# Select upper triangle of correlation matrix\n",
    "upper = corr_matrix_pca.where(np.triu(np.ones(corr_matrix_pca.shape), k=1).astype(np.bool))\n",
    "# Find index of feature columns with correlation greater than 0.75\n",
    "to_drop = [column for column in upper.columns if any(upper[column].abs() > 0.75)]\n",
    "to_drop"
   ]
  },
  {
   "cell_type": "code",
   "execution_count": 53,
   "metadata": {},
   "outputs": [],
   "source": [
    "pca_X = pca_df.drop(pca_df[to_drop], axis=1)"
   ]
  },
  {
   "cell_type": "code",
   "execution_count": 54,
   "metadata": {},
   "outputs": [
    {
     "data": {
      "text/plain": [
       "(9134, 26)"
      ]
     },
     "execution_count": 54,
     "metadata": {},
     "output_type": "execute_result"
    }
   ],
   "source": [
    "pca_X.shape"
   ]
  },
  {
   "cell_type": "code",
   "execution_count": 55,
   "metadata": {},
   "outputs": [],
   "source": [
    "all_pca = pd.concat([df_new[['Customer_Lifetime_Value','Effective_Date']], pca_X], axis=1)"
   ]
  },
  {
   "cell_type": "code",
   "execution_count": 56,
   "metadata": {},
   "outputs": [],
   "source": [
    "# Split data set train/test set:test set is built on the last 3 months to the end of the year \n",
    "train = all_pca[all_pca['Effective_Date'] <= '2011-09-30']\n",
    "test = all_pca[all_pca['Effective_Date'] >= '2011-10-01']\n",
    "train['month'] = pd.DatetimeIndex(train['Effective_Date']).month\n",
    "test['month'] = pd.DatetimeIndex(test['Effective_Date']).month\n",
    "train = train.drop(['Effective_Date'], axis=1)\n",
    "test = test.drop(['Effective_Date'], axis=1)"
   ]
  },
  {
   "cell_type": "code",
   "execution_count": 57,
   "metadata": {},
   "outputs": [],
   "source": [
    "# Create a month list \n",
    "month = test['month'].tolist()\n",
    "\n",
    "# Subsetting\n",
    "def subtable(test,month):\n",
    "    return (test[(test['month'] == month)])\n",
    "\n",
    "# Subsetting test\n",
    "test_1 = subtable(test, 10)\n",
    "test_2 = subtable(test, 11)\n",
    "test_3 = subtable(test, 12)"
   ]
  },
  {
   "cell_type": "code",
   "execution_count": 58,
   "metadata": {},
   "outputs": [],
   "source": [
    "# 10-2011\n",
    "X_train = train.copy()\n",
    "y_train = X_train.Customer_Lifetime_Value\n",
    "X_train.drop(['Customer_Lifetime_Value'], axis=1, inplace=True)\n",
    "# Normalization of data\n",
    "X_train_sc = scaling.fit_transform(X_train)\n",
    "X_test = test_1.copy()\n",
    "y_test = X_test.Customer_Lifetime_Value\n",
    "X_test.drop(['Customer_Lifetime_Value'], axis=1, inplace=True)\n",
    "# Normalization of data\n",
    "X_test_sc = scaling.transform(X_test)\n",
    "month = '10-2011'\n",
    "model = GradientBoostingRegressor(random_state=0)\n",
    "kf = KFold(n_splits=5)\n",
    "param_grid = {}\n",
    "score = []\n",
    "my_model = GridSearchCV(model,param_grid,cv=kf)\n",
    "my_model.fit(X_train_sc, y_train)\n",
    "predictions_tr = my_model.predict(X_train_sc) \n",
    "predictions_te = my_model.predict(X_test_sc)\n",
    "CLV_predict = predictions_te\n",
    "mae_train = median_absolute_error(y_train, predictions_tr)\n",
    "mae_test = median_absolute_error(y_test, predictions_te)\n",
    "score_dict = {\n",
    "        'month': month,\n",
    "        'mae_train': mae_train,\n",
    "        'mae_test': mae_test\n",
    "    }\n",
    "score.append(score_dict)\n",
    "score_1 = pd.DataFrame(score, columns = ['month','mae_train', 'mae_test'])\n",
    "predictions_te_1 = pd.DataFrame(predictions_te, columns = ['Customer_Lifetime_Value_predict_pca'])\n",
    "X_test = X_test.reset_index(drop=True)\n",
    "pred_1 = pd.concat([predictions_te_1, X_test], axis=1)\n"
   ]
  },
  {
   "cell_type": "code",
   "execution_count": 59,
   "metadata": {},
   "outputs": [],
   "source": [
    "# 11-2011\n",
    "X_train = train.copy()\n",
    "X_train = X_train.append(test_1)\n",
    "y_train = X_train.Customer_Lifetime_Value\n",
    "X_train.drop(['Customer_Lifetime_Value'], axis=1, inplace=True)\n",
    "# Normalization of data\n",
    "X_train_sc = scaling.fit_transform(X_train)\n",
    "X_test = test_2.copy()\n",
    "y_test = X_test.Customer_Lifetime_Value\n",
    "X_test.drop(['Customer_Lifetime_Value'], axis=1, inplace=True)\n",
    "# Normalization of data\n",
    "X_test_sc = scaling.transform(X_test)\n",
    "month = '11-2011'\n",
    "model = GradientBoostingRegressor(random_state=0)\n",
    "kf = KFold(n_splits=5)\n",
    "param_grid = {}\n",
    "score = []\n",
    "my_model = GridSearchCV(model,param_grid,cv=kf)\n",
    "my_model.fit(X_train_sc, y_train)\n",
    "predictions_tr = my_model.predict(X_train_sc) \n",
    "predictions_te = my_model.predict(X_test_sc)\n",
    "CLV_predict = predictions_te\n",
    "mae_train = median_absolute_error(y_train, predictions_tr)\n",
    "mae_test = median_absolute_error(y_test, predictions_te)\n",
    "score_dict = {\n",
    "        'month': month,\n",
    "        'mae_train': mae_train,\n",
    "        'mae_test': mae_test\n",
    "    }\n",
    "score.append(score_dict)\n",
    "score_2 = pd.DataFrame(score, columns = ['month','mae_train', 'mae_test'])\n",
    "predictions_te_2 = pd.DataFrame(predictions_te, columns = ['Customer_Lifetime_Value_predict_pca'])\n",
    "X_test = X_test.reset_index(drop=True)\n",
    "pred_2 = pd.concat([predictions_te_2, X_test], axis=1)\n"
   ]
  },
  {
   "cell_type": "code",
   "execution_count": 60,
   "metadata": {},
   "outputs": [],
   "source": [
    "# 12-2011\n",
    "X_train = train.copy()\n",
    "X_train = X_train.append([test_1,test_2])\n",
    "y_train = X_train.Customer_Lifetime_Value\n",
    "X_train.drop(['Customer_Lifetime_Value'], axis=1, inplace=True)\n",
    "# Normalization of data\n",
    "X_train_sc = scaling.fit_transform(X_train)\n",
    "X_test = test_3.copy()\n",
    "y_test = X_test.Customer_Lifetime_Value\n",
    "X_test.drop(['Customer_Lifetime_Value'], axis=1, inplace=True)\n",
    "# Normalization of data\n",
    "X_test_sc = scaling.transform(X_test)\n",
    "month = '12-2011'\n",
    "model = GradientBoostingRegressor(random_state=0)\n",
    "kf = KFold(n_splits=5)\n",
    "param_grid = {}\n",
    "score = []\n",
    "my_model = GridSearchCV(model,param_grid,cv=kf)\n",
    "my_model.fit(X_train_sc, y_train)\n",
    "predictions_tr = my_model.predict(X_train_sc) \n",
    "predictions_te = my_model.predict(X_test_sc)\n",
    "CLV_predict = predictions_te\n",
    "mae_train = median_absolute_error(y_train, predictions_tr)\n",
    "mae_test = median_absolute_error(y_test, predictions_te)\n",
    "score_dict = {\n",
    "        'month': month,\n",
    "        'mae_train': mae_train,\n",
    "        'mae_test': mae_test\n",
    "    }\n",
    "score.append(score_dict)\n",
    "score_3 = pd.DataFrame(score, columns = ['month','mae_train', 'mae_test'])\n",
    "predictions_te_3 = pd.DataFrame(predictions_te, columns = ['Customer_Lifetime_Value_predict_pca'])\n",
    "X_test = X_test.reset_index(drop=True)\n",
    "pred_3 = pd.concat([predictions_te_3, X_test], axis=1)\n"
   ]
  },
  {
   "cell_type": "markdown",
   "metadata": {},
   "source": [
    "### Results Analysis"
   ]
  },
  {
   "cell_type": "code",
   "execution_count": 61,
   "metadata": {},
   "outputs": [
    {
     "data": {
      "text/html": [
       "<div>\n",
       "<style scoped>\n",
       "    .dataframe tbody tr th:only-of-type {\n",
       "        vertical-align: middle;\n",
       "    }\n",
       "\n",
       "    .dataframe tbody tr th {\n",
       "        vertical-align: top;\n",
       "    }\n",
       "\n",
       "    .dataframe thead th {\n",
       "        text-align: right;\n",
       "    }\n",
       "</style>\n",
       "<table border=\"1\" class=\"dataframe\">\n",
       "  <thead>\n",
       "    <tr style=\"text-align: right;\">\n",
       "      <th></th>\n",
       "      <th>month</th>\n",
       "      <th>mae_train</th>\n",
       "      <th>mae_test</th>\n",
       "    </tr>\n",
       "  </thead>\n",
       "  <tbody>\n",
       "    <tr>\n",
       "      <th>0</th>\n",
       "      <td>10-2011</td>\n",
       "      <td>2220.962105</td>\n",
       "      <td>2167.968484</td>\n",
       "    </tr>\n",
       "    <tr>\n",
       "      <th>0</th>\n",
       "      <td>11-2011</td>\n",
       "      <td>2229.613376</td>\n",
       "      <td>2352.255425</td>\n",
       "    </tr>\n",
       "    <tr>\n",
       "      <th>0</th>\n",
       "      <td>12-2011</td>\n",
       "      <td>2255.681900</td>\n",
       "      <td>2434.375185</td>\n",
       "    </tr>\n",
       "  </tbody>\n",
       "</table>\n",
       "</div>"
      ],
      "text/plain": [
       "     month    mae_train     mae_test\n",
       "0  10-2011  2220.962105  2167.968484\n",
       "0  11-2011  2229.613376  2352.255425\n",
       "0  12-2011  2255.681900  2434.375185"
      ]
     },
     "execution_count": 61,
     "metadata": {},
     "output_type": "execute_result"
    }
   ],
   "source": [
    "predictions_te_pca = pd.concat([predictions_te_1,predictions_te_2,predictions_te_3], axis=0)\n",
    "score_3M = pd.concat([score_1,score_2,score_3], axis=0)\n",
    "score_3M"
   ]
  },
  {
   "cell_type": "code",
   "execution_count": 62,
   "metadata": {},
   "outputs": [
    {
     "data": {
      "text/plain": [
       "2235.419127065017"
      ]
     },
     "execution_count": 62,
     "metadata": {},
     "output_type": "execute_result"
    }
   ],
   "source": [
    "score_3M['mae_train'].mean()"
   ]
  },
  {
   "cell_type": "code",
   "execution_count": 63,
   "metadata": {},
   "outputs": [
    {
     "data": {
      "text/plain": [
       "2318.199698074432"
      ]
     },
     "execution_count": 63,
     "metadata": {},
     "output_type": "execute_result"
    }
   ],
   "source": [
    "score_3M['mae_test'].mean()"
   ]
  },
  {
   "cell_type": "code",
   "execution_count": 64,
   "metadata": {},
   "outputs": [],
   "source": [
    "test_df = all[all['Effective_Date'] >= '2011-10-01']\n",
    "test_df = pd.concat([test_df, predictions_te_flat.set_index(test.index), predictions_te_pca.set_index(test.index)], axis=1)\n",
    "test_2 = df_new[df_new['Effective_Date'] >= '2011-10-01']\n",
    "test_2_df = pd.concat([test_2, predictions_te_flat.set_index(test.index), predictions_te_pca.set_index(test.index)], axis=1)"
   ]
  },
  {
   "cell_type": "markdown",
   "metadata": {},
   "source": [
    "# Autoencoders Modeling & Prediction"
   ]
  },
  {
   "cell_type": "code",
   "execution_count": 65,
   "metadata": {},
   "outputs": [],
   "source": [
    "# https://blog.keras.io/building-autoencoders-in-keras.html\n",
    "# single fully-connected neural layer as encoder and as decoder\n",
    "# This is the size of our encoded representations\n",
    "encoding_dim = 26  \n",
    "\n",
    "# This is our input \n",
    "input_data = Input(shape=(39,)) # 39 is the number of features/columns\n",
    "# \"encoded\" is the encoded representation of the input\n",
    "encoded = Dense(encoding_dim, activation='relu')(input_data)\n",
    "# \"decoded\" is the lossy reconstruction of the input\n",
    "decoded = Dense(39, activation='relu')(encoded)\n",
    "\n",
    "# This model maps an input to its reconstruction\n",
    "autoencoder = Model(input_data, decoded)"
   ]
  },
  {
   "cell_type": "code",
   "execution_count": 66,
   "metadata": {},
   "outputs": [],
   "source": [
    "# create a separate encoder model:\n",
    "# This model maps an input to its encoded representation\n",
    "encoder = Model(input_data, encoded)\n",
    "# create a separate decoder model:\n",
    "# This is our encoded (26-dimensional) input\n",
    "encoded_input = Input(shape=(encoding_dim,))\n",
    "# Retrieve the last layer of the autoencoder model\n",
    "decoder_layer = autoencoder.layers[-1]\n",
    "# Create the decoder model\n",
    "decoder = Model(encoded_input, decoder_layer(encoded_input))"
   ]
  },
  {
   "cell_type": "code",
   "execution_count": 67,
   "metadata": {},
   "outputs": [],
   "source": [
    "# Configure the model\n",
    "autoencoder.compile(optimizer='adam', loss='mean_squared_error')"
   ]
  },
  {
   "cell_type": "code",
   "execution_count": 68,
   "metadata": {},
   "outputs": [
    {
     "name": "stdout",
     "output_type": "stream",
     "text": [
      "Epoch 1/50\n",
      "286/286 [==============================] - 1s 3ms/step - loss: 0.1219\n",
      "Epoch 2/50\n",
      "286/286 [==============================] - 1s 3ms/step - loss: 0.0416\n",
      "Epoch 3/50\n",
      "286/286 [==============================] - 1s 3ms/step - loss: 0.0201\n",
      "Epoch 4/50\n",
      "286/286 [==============================] - 1s 3ms/step - loss: 0.0129\n",
      "Epoch 5/50\n",
      "286/286 [==============================] - 1s 3ms/step - loss: 0.0100\n",
      "Epoch 6/50\n",
      "286/286 [==============================] - 1s 3ms/step - loss: 0.0083\n",
      "Epoch 7/50\n",
      "286/286 [==============================] - 0s 1ms/step - loss: 0.0071\n",
      "Epoch 8/50\n",
      "286/286 [==============================] - 0s 1ms/step - loss: 0.0068\n",
      "Epoch 9/50\n",
      "286/286 [==============================] - 0s 864us/step - loss: 0.0066\n",
      "Epoch 10/50\n",
      "286/286 [==============================] - 0s 859us/step - loss: 0.0065\n",
      "Epoch 11/50\n",
      "286/286 [==============================] - 0s 865us/step - loss: 0.0065\n",
      "Epoch 12/50\n",
      "286/286 [==============================] - 0s 862us/step - loss: 0.0064\n",
      "Epoch 13/50\n",
      "286/286 [==============================] - 0s 857us/step - loss: 0.0064\n",
      "Epoch 14/50\n",
      "286/286 [==============================] - 0s 858us/step - loss: 0.0064\n",
      "Epoch 15/50\n",
      "286/286 [==============================] - 0s 851us/step - loss: 0.0064\n",
      "Epoch 16/50\n",
      "286/286 [==============================] - 0s 857us/step - loss: 0.0064\n",
      "Epoch 17/50\n",
      "286/286 [==============================] - 0s 854us/step - loss: 0.0064\n",
      "Epoch 18/50\n",
      "286/286 [==============================] - 0s 856us/step - loss: 0.0064\n",
      "Epoch 19/50\n",
      "286/286 [==============================] - 0s 876us/step - loss: 0.0064\n",
      "Epoch 20/50\n",
      "286/286 [==============================] - 0s 1ms/step - loss: 0.0064\n",
      "Epoch 21/50\n",
      "286/286 [==============================] - 0s 1ms/step - loss: 0.0064\n",
      "Epoch 22/50\n",
      "286/286 [==============================] - 0s 1ms/step - loss: 0.0063\n",
      "Epoch 23/50\n",
      "286/286 [==============================] - 0s 992us/step - loss: 0.0063\n",
      "Epoch 24/50\n",
      "286/286 [==============================] - 0s 1ms/step - loss: 0.0064\n",
      "Epoch 25/50\n",
      "286/286 [==============================] - 0s 952us/step - loss: 0.0063\n",
      "Epoch 26/50\n",
      "286/286 [==============================] - 0s 981us/step - loss: 0.0059\n",
      "Epoch 27/50\n",
      "286/286 [==============================] - 0s 949us/step - loss: 0.0053\n",
      "Epoch 28/50\n",
      "286/286 [==============================] - 0s 916us/step - loss: 0.0051\n",
      "Epoch 29/50\n",
      "286/286 [==============================] - 0s 902us/step - loss: 0.0051\n",
      "Epoch 30/50\n",
      "286/286 [==============================] - 0s 971us/step - loss: 0.0051\n",
      "Epoch 31/50\n",
      "286/286 [==============================] - 0s 942us/step - loss: 0.0050\n",
      "Epoch 32/50\n",
      "286/286 [==============================] - 0s 913us/step - loss: 0.0050\n",
      "Epoch 33/50\n",
      "286/286 [==============================] - 0s 911us/step - loss: 0.0050\n",
      "Epoch 34/50\n",
      "286/286 [==============================] - 0s 1ms/step - loss: 0.0050\n",
      "Epoch 35/50\n",
      "286/286 [==============================] - 0s 1ms/step - loss: 0.0050\n",
      "Epoch 36/50\n",
      "286/286 [==============================] - 0s 949us/step - loss: 0.0050\n",
      "Epoch 37/50\n",
      "286/286 [==============================] - 0s 1ms/step - loss: 0.0050\n",
      "Epoch 38/50\n",
      "286/286 [==============================] - 0s 941us/step - loss: 0.0050\n",
      "Epoch 39/50\n",
      "286/286 [==============================] - 0s 902us/step - loss: 0.0050\n",
      "Epoch 40/50\n",
      "286/286 [==============================] - 0s 1ms/step - loss: 0.0050\n",
      "Epoch 41/50\n",
      "286/286 [==============================] - 0s 995us/step - loss: 0.0050\n",
      "Epoch 42/50\n",
      "286/286 [==============================] - 0s 916us/step - loss: 0.0049\n",
      "Epoch 43/50\n",
      "286/286 [==============================] - 0s 903us/step - loss: 0.0049\n",
      "Epoch 44/50\n",
      "286/286 [==============================] - 0s 925us/step - loss: 0.0049\n",
      "Epoch 45/50\n",
      "286/286 [==============================] - 0s 1ms/step - loss: 0.0049\n",
      "Epoch 46/50\n",
      "286/286 [==============================] - 0s 953us/step - loss: 0.0049\n",
      "Epoch 47/50\n",
      "286/286 [==============================] - 0s 905us/step - loss: 0.0049\n",
      "Epoch 48/50\n",
      "286/286 [==============================] - 0s 914us/step - loss: 0.0049\n",
      "Epoch 49/50\n",
      "286/286 [==============================] - 0s 908us/step - loss: 0.0049\n",
      "Epoch 50/50\n",
      "286/286 [==============================] - 0s 1ms/step - loss: 0.0049\n",
      "Model: \"functional_1\"\n",
      "_________________________________________________________________\n",
      "Layer (type)                 Output Shape              Param #   \n",
      "=================================================================\n",
      "input_1 (InputLayer)         [(None, 39)]              0         \n",
      "_________________________________________________________________\n",
      "dense (Dense)                (None, 26)                1040      \n",
      "_________________________________________________________________\n",
      "dense_1 (Dense)              (None, 39)                1053      \n",
      "=================================================================\n",
      "Total params: 2,093\n",
      "Trainable params: 2,093\n",
      "Non-trainable params: 0\n",
      "_________________________________________________________________\n"
     ]
    }
   ],
   "source": [
    "# train the model\n",
    "autoencoder.fit(X_all_sc,\n",
    "                X_all_sc,\n",
    "                epochs=50)\n",
    "\n",
    "autoencoder.summary()"
   ]
  },
  {
   "cell_type": "code",
   "execution_count": 69,
   "metadata": {},
   "outputs": [],
   "source": [
    "# predict after training\n",
    "encoded_input = encoder.predict(X_all_sc)"
   ]
  },
  {
   "cell_type": "code",
   "execution_count": 70,
   "metadata": {},
   "outputs": [],
   "source": [
    "autoencoder_df = pd.DataFrame(data = encoded_input, columns=['autoencoder'+str(i) for i in range(encoded_input.shape[1])])"
   ]
  },
  {
   "cell_type": "code",
   "execution_count": 71,
   "metadata": {},
   "outputs": [],
   "source": [
    "#X_all_autoencoder = pd.concat([autoencoder_df, X_all], axis = 1)"
   ]
  },
  {
   "cell_type": "code",
   "execution_count": 72,
   "metadata": {},
   "outputs": [],
   "source": [
    "# Check correlation with new features \n",
    "corr_matrix_f = autoencoder_df.corr()"
   ]
  },
  {
   "cell_type": "code",
   "execution_count": 73,
   "metadata": {},
   "outputs": [
    {
     "data": {
      "text/plain": [
       "[]"
      ]
     },
     "execution_count": 73,
     "metadata": {},
     "output_type": "execute_result"
    }
   ],
   "source": [
    "# Select correlated features and removed it\n",
    "# Select upper triangle of correlation matrix\n",
    "upper = corr_matrix_f.where(np.triu(np.ones(corr_matrix_f.shape), k=1).astype(np.bool))\n",
    "# Find index of feature columns with correlation greater than 0.75\n",
    "to_drop = [column for column in upper.columns if any(upper[column].abs() > 0.75)]\n",
    "to_drop"
   ]
  },
  {
   "cell_type": "code",
   "execution_count": 74,
   "metadata": {},
   "outputs": [],
   "source": [
    "autoencoder_X = autoencoder_df.drop(autoencoder_df[to_drop], axis=1)"
   ]
  },
  {
   "cell_type": "code",
   "execution_count": 75,
   "metadata": {},
   "outputs": [
    {
     "data": {
      "text/plain": [
       "(9134, 26)"
      ]
     },
     "execution_count": 75,
     "metadata": {},
     "output_type": "execute_result"
    }
   ],
   "source": [
    "autoencoder_X.shape"
   ]
  },
  {
   "cell_type": "code",
   "execution_count": 76,
   "metadata": {},
   "outputs": [],
   "source": [
    "all_autoencoder = pd.concat([df_new[['Customer_Lifetime_Value','Effective_Date']], autoencoder_X], axis=1)"
   ]
  },
  {
   "cell_type": "code",
   "execution_count": 77,
   "metadata": {},
   "outputs": [],
   "source": [
    "# Split data set train/test set:test set is built on the last 3 months to the end of the year \n",
    "train = all_autoencoder[all_autoencoder['Effective_Date'] <= '2011-09-30']\n",
    "test = all_autoencoder[all_autoencoder['Effective_Date'] >= '2011-10-01']\n",
    "train['month'] = pd.DatetimeIndex(train['Effective_Date']).month\n",
    "test['month'] = pd.DatetimeIndex(test['Effective_Date']).month\n",
    "train = train.drop(['Effective_Date'], axis=1)\n",
    "test = test.drop(['Effective_Date'], axis=1)"
   ]
  },
  {
   "cell_type": "code",
   "execution_count": 78,
   "metadata": {},
   "outputs": [],
   "source": [
    "# Create a month list \n",
    "month = test['month'].tolist()\n",
    "\n",
    "# Subsetting\n",
    "def subtable(test,month):\n",
    "    return (test[(test['month'] == month)])\n",
    "\n",
    "# Subsetting test\n",
    "test_1 = subtable(test, 10)\n",
    "test_2 = subtable(test, 11)\n",
    "test_3 = subtable(test, 12)"
   ]
  },
  {
   "cell_type": "code",
   "execution_count": 79,
   "metadata": {},
   "outputs": [],
   "source": [
    "# 10-2011\n",
    "X_train = train.copy()\n",
    "y_train = X_train.Customer_Lifetime_Value\n",
    "X_train.drop(['Customer_Lifetime_Value'], axis=1, inplace=True)\n",
    "# Normalization of data\n",
    "X_train_sc = scaling.fit_transform(X_train)\n",
    "X_test = test_1.copy()\n",
    "y_test = X_test.Customer_Lifetime_Value\n",
    "X_test.drop(['Customer_Lifetime_Value'], axis=1, inplace=True)\n",
    "# Normalization of data\n",
    "X_test_sc = scaling.transform(X_test)\n",
    "month = '10-2011'\n",
    "model = GradientBoostingRegressor(random_state=0)\n",
    "kf = KFold(n_splits=5)\n",
    "param_grid = {}\n",
    "score = []\n",
    "my_model = GridSearchCV(model,param_grid,cv=kf)\n",
    "my_model.fit(X_train_sc, y_train)\n",
    "predictions_tr = my_model.predict(X_train_sc) \n",
    "predictions_te = my_model.predict(X_test_sc)\n",
    "CLV_predict = predictions_te\n",
    "mae_train = median_absolute_error(y_train, predictions_tr)\n",
    "mae_test = median_absolute_error(y_test, predictions_te)\n",
    "score_dict = {\n",
    "        'month': month,\n",
    "        'mae_train': mae_train,\n",
    "        'mae_test': mae_test\n",
    "    }\n",
    "score.append(score_dict)\n",
    "score_1 = pd.DataFrame(score, columns = ['month','mae_train', 'mae_test'])\n",
    "predictions_te_1 = pd.DataFrame(predictions_te, columns = ['Customer_Lifetime_Value_predict_autoencoder'])\n",
    "X_test = X_test.reset_index(drop=True)\n",
    "pred_1 = pd.concat([predictions_te_1, X_test], axis=1)\n"
   ]
  },
  {
   "cell_type": "code",
   "execution_count": 80,
   "metadata": {},
   "outputs": [],
   "source": [
    "# 11-2011\n",
    "X_train = train.copy()\n",
    "X_train = X_train.append(test_1)\n",
    "y_train = X_train.Customer_Lifetime_Value\n",
    "X_train.drop(['Customer_Lifetime_Value'], axis=1, inplace=True)\n",
    "# Normalization of data\n",
    "X_train_sc = scaling.fit_transform(X_train)\n",
    "X_test = test_2.copy()\n",
    "y_test = X_test.Customer_Lifetime_Value\n",
    "X_test.drop(['Customer_Lifetime_Value'], axis=1, inplace=True)\n",
    "# Normalization of data\n",
    "X_test_sc = scaling.transform(X_test)\n",
    "month = '11-2011'\n",
    "model = GradientBoostingRegressor(random_state=0)\n",
    "kf = KFold(n_splits=5)\n",
    "param_grid = {}\n",
    "score = []\n",
    "my_model = GridSearchCV(model,param_grid,cv=kf)\n",
    "my_model.fit(X_train_sc, y_train)\n",
    "predictions_tr = my_model.predict(X_train_sc) \n",
    "predictions_te = my_model.predict(X_test_sc)\n",
    "CLV_predict = predictions_te\n",
    "mae_train = median_absolute_error(y_train, predictions_tr)\n",
    "mae_test = median_absolute_error(y_test, predictions_te)\n",
    "score_dict = {\n",
    "        'month': month,\n",
    "        'mae_train': mae_train,\n",
    "        'mae_test': mae_test\n",
    "    }\n",
    "score.append(score_dict)\n",
    "score_2 = pd.DataFrame(score, columns = ['month','mae_train', 'mae_test'])\n",
    "predictions_te_2 = pd.DataFrame(predictions_te, columns = ['Customer_Lifetime_Value_predict_autoencoder'])\n",
    "X_test = X_test.reset_index(drop=True)\n",
    "pred_2 = pd.concat([predictions_te_2, X_test], axis=1)"
   ]
  },
  {
   "cell_type": "code",
   "execution_count": 81,
   "metadata": {},
   "outputs": [],
   "source": [
    "# 12-2011\n",
    "X_train = train.copy()\n",
    "X_train = X_train.append([test_1,test_2])\n",
    "y_train = X_train.Customer_Lifetime_Value\n",
    "X_train.drop(['Customer_Lifetime_Value'], axis=1, inplace=True)\n",
    "# Normalization of data\n",
    "X_train_sc = scaling.fit_transform(X_train)\n",
    "X_test = test_3.copy()\n",
    "y_test = X_test.Customer_Lifetime_Value\n",
    "X_test.drop(['Customer_Lifetime_Value'], axis=1, inplace=True)\n",
    "# Normalization of data\n",
    "X_test_sc = scaling.transform(X_test)\n",
    "month = '12-2011'\n",
    "model = GradientBoostingRegressor(random_state=0)\n",
    "kf = KFold(n_splits=5)\n",
    "param_grid = {}\n",
    "score = []\n",
    "my_model = GridSearchCV(model,param_grid,cv=kf)\n",
    "my_model.fit(X_train_sc, y_train)\n",
    "predictions_tr = my_model.predict(X_train_sc) \n",
    "predictions_te = my_model.predict(X_test_sc)\n",
    "CLV_predict = predictions_te\n",
    "mae_train = median_absolute_error(y_train, predictions_tr)\n",
    "mae_test = median_absolute_error(y_test, predictions_te)\n",
    "score_dict = {\n",
    "        'month': month,\n",
    "        'mae_train': mae_train,\n",
    "        'mae_test': mae_test\n",
    "    }\n",
    "score.append(score_dict)\n",
    "score_3 = pd.DataFrame(score, columns = ['month','mae_train', 'mae_test'])\n",
    "predictions_te_3 = pd.DataFrame(predictions_te, columns = ['Customer_Lifetime_Value_predict_autoencoder'])\n",
    "X_test = X_test.reset_index(drop=True)\n",
    "pred_3 = pd.concat([predictions_te_3, X_test], axis=1)"
   ]
  },
  {
   "cell_type": "markdown",
   "metadata": {},
   "source": [
    "### Results Analysis"
   ]
  },
  {
   "cell_type": "code",
   "execution_count": 82,
   "metadata": {},
   "outputs": [
    {
     "data": {
      "text/html": [
       "<div>\n",
       "<style scoped>\n",
       "    .dataframe tbody tr th:only-of-type {\n",
       "        vertical-align: middle;\n",
       "    }\n",
       "\n",
       "    .dataframe tbody tr th {\n",
       "        vertical-align: top;\n",
       "    }\n",
       "\n",
       "    .dataframe thead th {\n",
       "        text-align: right;\n",
       "    }\n",
       "</style>\n",
       "<table border=\"1\" class=\"dataframe\">\n",
       "  <thead>\n",
       "    <tr style=\"text-align: right;\">\n",
       "      <th></th>\n",
       "      <th>month</th>\n",
       "      <th>mae_train</th>\n",
       "      <th>mae_test</th>\n",
       "    </tr>\n",
       "  </thead>\n",
       "  <tbody>\n",
       "    <tr>\n",
       "      <th>0</th>\n",
       "      <td>10-2011</td>\n",
       "      <td>2979.908162</td>\n",
       "      <td>2889.660689</td>\n",
       "    </tr>\n",
       "    <tr>\n",
       "      <th>0</th>\n",
       "      <td>11-2011</td>\n",
       "      <td>2963.561078</td>\n",
       "      <td>3290.827890</td>\n",
       "    </tr>\n",
       "    <tr>\n",
       "      <th>0</th>\n",
       "      <td>12-2011</td>\n",
       "      <td>2983.850321</td>\n",
       "      <td>3505.993120</td>\n",
       "    </tr>\n",
       "  </tbody>\n",
       "</table>\n",
       "</div>"
      ],
      "text/plain": [
       "     month    mae_train     mae_test\n",
       "0  10-2011  2979.908162  2889.660689\n",
       "0  11-2011  2963.561078  3290.827890\n",
       "0  12-2011  2983.850321  3505.993120"
      ]
     },
     "execution_count": 82,
     "metadata": {},
     "output_type": "execute_result"
    }
   ],
   "source": [
    "predictions_te_autoencoder = pd.concat([predictions_te_1,predictions_te_2,predictions_te_3], axis=0)\n",
    "score_3M = pd.concat([score_1,score_2,score_3], axis=0)\n",
    "score_3M"
   ]
  },
  {
   "cell_type": "code",
   "execution_count": 83,
   "metadata": {},
   "outputs": [
    {
     "data": {
      "text/plain": [
       "2975.773187188964"
      ]
     },
     "execution_count": 83,
     "metadata": {},
     "output_type": "execute_result"
    }
   ],
   "source": [
    "score_3M['mae_train'].mean()"
   ]
  },
  {
   "cell_type": "code",
   "execution_count": 84,
   "metadata": {},
   "outputs": [
    {
     "data": {
      "text/plain": [
       "3228.8272328938133"
      ]
     },
     "execution_count": 84,
     "metadata": {},
     "output_type": "execute_result"
    }
   ],
   "source": [
    "score_3M['mae_test'].mean()"
   ]
  },
  {
   "cell_type": "code",
   "execution_count": 85,
   "metadata": {},
   "outputs": [],
   "source": [
    "test_df = all[all['Effective_Date'] >= '2011-10-01']\n",
    "test_df = pd.concat([test_df, predictions_te_flat.set_index(test.index), \n",
    "                     predictions_te_pca.set_index(test.index), predictions_te_autoencoder.set_index(test.index)], axis=1)\n",
    "test_2 = df_new[df_new['Effective_Date'] >= '2011-10-01']\n",
    "test_2_df = pd.concat([test_2, predictions_te_flat.set_index(test.index), \n",
    "                     predictions_te_pca.set_index(test.index), predictions_te_autoencoder.set_index(test.index)], axis=1)"
   ]
  },
  {
   "cell_type": "markdown",
   "metadata": {},
   "source": [
    "# Isomap Modeling & Prediction"
   ]
  },
  {
   "cell_type": "code",
   "execution_count": 86,
   "metadata": {},
   "outputs": [],
   "source": [
    "np.random.seed(0)\n",
    "isomap = Isomap(n_components=26)"
   ]
  },
  {
   "cell_type": "code",
   "execution_count": 87,
   "metadata": {},
   "outputs": [],
   "source": [
    "isomap_embedd = isomap.fit_transform(X_all_sc)"
   ]
  },
  {
   "cell_type": "code",
   "execution_count": 88,
   "metadata": {},
   "outputs": [],
   "source": [
    "isomap_embedd_df = pd.DataFrame(data = isomap_embedd, columns=['embedding'+str(i) for i in range(isomap_embedd.shape[1])])"
   ]
  },
  {
   "cell_type": "code",
   "execution_count": 89,
   "metadata": {},
   "outputs": [],
   "source": [
    "#X_all_isomap = pd.concat([isomap_embedd_df, X_all], axis = 1)"
   ]
  },
  {
   "cell_type": "code",
   "execution_count": 90,
   "metadata": {},
   "outputs": [],
   "source": [
    "# Check correlation with new features \n",
    "corr_matrix_f = isomap_embedd_df.corr()"
   ]
  },
  {
   "cell_type": "code",
   "execution_count": 91,
   "metadata": {},
   "outputs": [
    {
     "data": {
      "text/plain": [
       "[]"
      ]
     },
     "execution_count": 91,
     "metadata": {},
     "output_type": "execute_result"
    }
   ],
   "source": [
    "# Select correlated features and removed it\n",
    "# Select upper triangle of correlation matrix\n",
    "upper = corr_matrix_f.where(np.triu(np.ones(corr_matrix_f.shape), k=1).astype(np.bool))\n",
    "# Find index of feature columns with correlation greater than 0.75\n",
    "to_drop = [column for column in upper.columns if any(upper[column].abs() > 0.75)]\n",
    "to_drop"
   ]
  },
  {
   "cell_type": "code",
   "execution_count": 92,
   "metadata": {},
   "outputs": [],
   "source": [
    "isomap_X = isomap_embedd_df.drop(isomap_embedd_df[to_drop], axis=1)"
   ]
  },
  {
   "cell_type": "code",
   "execution_count": 93,
   "metadata": {},
   "outputs": [
    {
     "data": {
      "text/plain": [
       "(9134, 26)"
      ]
     },
     "execution_count": 93,
     "metadata": {},
     "output_type": "execute_result"
    }
   ],
   "source": [
    "isomap_X.shape"
   ]
  },
  {
   "cell_type": "code",
   "execution_count": 94,
   "metadata": {},
   "outputs": [],
   "source": [
    "all_isomap = pd.concat([df_new[['Customer_Lifetime_Value','Effective_Date']], isomap_X], axis=1)"
   ]
  },
  {
   "cell_type": "code",
   "execution_count": 95,
   "metadata": {},
   "outputs": [],
   "source": [
    "# Split data set train/test set:test set is built on the last 3 months to the end of the year \n",
    "train = all_isomap[all_isomap['Effective_Date'] <= '2011-09-30']\n",
    "test = all_isomap[all_isomap['Effective_Date'] >= '2011-10-01']\n",
    "train['month'] = pd.DatetimeIndex(train['Effective_Date']).month\n",
    "test['month'] = pd.DatetimeIndex(test['Effective_Date']).month\n",
    "train = train.drop(['Effective_Date'], axis=1)\n",
    "test = test.drop(['Effective_Date'], axis=1)"
   ]
  },
  {
   "cell_type": "code",
   "execution_count": 96,
   "metadata": {},
   "outputs": [],
   "source": [
    "# Create a month list \n",
    "month = test['month'].tolist()\n",
    "\n",
    "# Subsetting\n",
    "def subtable(test,month):\n",
    "    return (test[(test['month'] == month)])\n",
    "\n",
    "# Subsetting test\n",
    "test_1 = subtable(test, 10)\n",
    "test_2 = subtable(test, 11)\n",
    "test_3 = subtable(test, 12)"
   ]
  },
  {
   "cell_type": "code",
   "execution_count": 97,
   "metadata": {},
   "outputs": [],
   "source": [
    "# 10-2011\n",
    "X_train = train.copy()\n",
    "y_train = X_train.Customer_Lifetime_Value\n",
    "X_train.drop(['Customer_Lifetime_Value'], axis=1, inplace=True)\n",
    "# Normalization of data\n",
    "X_train_sc = scaling.fit_transform(X_train)\n",
    "X_test = test_1.copy()\n",
    "y_test = X_test.Customer_Lifetime_Value\n",
    "X_test.drop(['Customer_Lifetime_Value'], axis=1, inplace=True)\n",
    "# Normalization of data\n",
    "X_test_sc = scaling.transform(X_test)\n",
    "month = '10-2011'\n",
    "model = GradientBoostingRegressor(random_state=0)\n",
    "kf = KFold(n_splits=5)\n",
    "param_grid = {}\n",
    "score = []\n",
    "my_model = GridSearchCV(model,param_grid,cv=kf)\n",
    "my_model.fit(X_train_sc, y_train)\n",
    "predictions_tr = my_model.predict(X_train_sc) \n",
    "predictions_te = my_model.predict(X_test_sc)\n",
    "CLV_predict = predictions_te\n",
    "mae_train = median_absolute_error(y_train, predictions_tr)\n",
    "mae_test = median_absolute_error(y_test, predictions_te)\n",
    "score_dict = {\n",
    "        'month': month,\n",
    "        'mae_train': mae_train,\n",
    "        'mae_test': mae_test\n",
    "    }\n",
    "score.append(score_dict)\n",
    "score_1 = pd.DataFrame(score, columns = ['month','mae_train', 'mae_test'])\n",
    "predictions_te_1 = pd.DataFrame(predictions_te, columns = ['Customer_Lifetime_Value_predict_isomap'])\n",
    "X_test = X_test.reset_index(drop=True)\n",
    "pred_1 = pd.concat([predictions_te_1, X_test], axis=1)"
   ]
  },
  {
   "cell_type": "code",
   "execution_count": 98,
   "metadata": {},
   "outputs": [],
   "source": [
    "# 11-2011\n",
    "X_train = train.copy()\n",
    "X_train = X_train.append(test_1)\n",
    "y_train = X_train.Customer_Lifetime_Value\n",
    "X_train.drop(['Customer_Lifetime_Value'], axis=1, inplace=True)\n",
    "# Normalization of data\n",
    "X_train_sc = scaling.fit_transform(X_train)\n",
    "X_test = test_2.copy()\n",
    "y_test = X_test.Customer_Lifetime_Value\n",
    "X_test.drop(['Customer_Lifetime_Value'], axis=1, inplace=True)\n",
    "# Normalization of data\n",
    "X_test_sc = scaling.transform(X_test)\n",
    "month = '11-2011'\n",
    "model = GradientBoostingRegressor(random_state=0)\n",
    "kf = KFold(n_splits=5)\n",
    "param_grid = {}\n",
    "score = []\n",
    "my_model = GridSearchCV(model,param_grid,cv=kf)\n",
    "my_model.fit(X_train_sc, y_train)\n",
    "predictions_tr = my_model.predict(X_train_sc) \n",
    "predictions_te = my_model.predict(X_test_sc)\n",
    "CLV_predict = predictions_te\n",
    "mae_train = median_absolute_error(y_train, predictions_tr)\n",
    "mae_test = median_absolute_error(y_test, predictions_te)\n",
    "score_dict = {\n",
    "        'month': month,\n",
    "        'mae_train': mae_train,\n",
    "        'mae_test': mae_test\n",
    "    }\n",
    "score.append(score_dict)\n",
    "score_2 = pd.DataFrame(score, columns = ['month','mae_train', 'mae_test'])\n",
    "predictions_te_2 = pd.DataFrame(predictions_te, columns = ['Customer_Lifetime_Value_predict_isomap'])\n",
    "X_test = X_test.reset_index(drop=True)\n",
    "pred_2 = pd.concat([predictions_te_2, X_test], axis=1)"
   ]
  },
  {
   "cell_type": "code",
   "execution_count": 99,
   "metadata": {},
   "outputs": [],
   "source": [
    "# 12-2011\n",
    "X_train = train.copy()\n",
    "X_train = X_train.append([test_1,test_2])\n",
    "y_train = X_train.Customer_Lifetime_Value\n",
    "X_train.drop(['Customer_Lifetime_Value'], axis=1, inplace=True)\n",
    "# Normalization of data\n",
    "X_train_sc = scaling.fit_transform(X_train)\n",
    "X_test = test_3.copy()\n",
    "y_test = X_test.Customer_Lifetime_Value\n",
    "X_test.drop(['Customer_Lifetime_Value'], axis=1, inplace=True)\n",
    "# Normalization of data\n",
    "X_test_sc = scaling.transform(X_test)\n",
    "month = '12-2011'\n",
    "model = GradientBoostingRegressor(random_state=0)\n",
    "kf = KFold(n_splits=5)\n",
    "param_grid = {}\n",
    "score = []\n",
    "my_model = GridSearchCV(model,param_grid,cv=kf)\n",
    "my_model.fit(X_train_sc, y_train)\n",
    "predictions_tr = my_model.predict(X_train_sc) \n",
    "predictions_te = my_model.predict(X_test_sc)\n",
    "CLV_predict = predictions_te\n",
    "mae_train = median_absolute_error(y_train, predictions_tr)\n",
    "mae_test = median_absolute_error(y_test, predictions_te)\n",
    "score_dict = {\n",
    "        'month': month,\n",
    "        'mae_train': mae_train,\n",
    "        'mae_test': mae_test\n",
    "    }\n",
    "score.append(score_dict)\n",
    "score_3 = pd.DataFrame(score, columns = ['month','mae_train', 'mae_test'])\n",
    "predictions_te_3 = pd.DataFrame(predictions_te, columns = ['Customer_Lifetime_Value_predict_isomap'])\n",
    "X_test = X_test.reset_index(drop=True)\n",
    "pred_3 = pd.concat([predictions_te_3, X_test], axis=1)"
   ]
  },
  {
   "cell_type": "markdown",
   "metadata": {},
   "source": [
    "### Results Analysis"
   ]
  },
  {
   "cell_type": "code",
   "execution_count": 100,
   "metadata": {},
   "outputs": [
    {
     "data": {
      "text/html": [
       "<div>\n",
       "<style scoped>\n",
       "    .dataframe tbody tr th:only-of-type {\n",
       "        vertical-align: middle;\n",
       "    }\n",
       "\n",
       "    .dataframe tbody tr th {\n",
       "        vertical-align: top;\n",
       "    }\n",
       "\n",
       "    .dataframe thead th {\n",
       "        text-align: right;\n",
       "    }\n",
       "</style>\n",
       "<table border=\"1\" class=\"dataframe\">\n",
       "  <thead>\n",
       "    <tr style=\"text-align: right;\">\n",
       "      <th></th>\n",
       "      <th>month</th>\n",
       "      <th>mae_train</th>\n",
       "      <th>mae_test</th>\n",
       "    </tr>\n",
       "  </thead>\n",
       "  <tbody>\n",
       "    <tr>\n",
       "      <th>0</th>\n",
       "      <td>10-2011</td>\n",
       "      <td>3010.628135</td>\n",
       "      <td>3087.907840</td>\n",
       "    </tr>\n",
       "    <tr>\n",
       "      <th>0</th>\n",
       "      <td>11-2011</td>\n",
       "      <td>2994.051111</td>\n",
       "      <td>3232.878015</td>\n",
       "    </tr>\n",
       "    <tr>\n",
       "      <th>0</th>\n",
       "      <td>12-2011</td>\n",
       "      <td>2985.529975</td>\n",
       "      <td>3616.523008</td>\n",
       "    </tr>\n",
       "  </tbody>\n",
       "</table>\n",
       "</div>"
      ],
      "text/plain": [
       "     month    mae_train     mae_test\n",
       "0  10-2011  3010.628135  3087.907840\n",
       "0  11-2011  2994.051111  3232.878015\n",
       "0  12-2011  2985.529975  3616.523008"
      ]
     },
     "execution_count": 100,
     "metadata": {},
     "output_type": "execute_result"
    }
   ],
   "source": [
    "predictions_te_isomap = pd.concat([predictions_te_1,predictions_te_2,predictions_te_3], axis=0)\n",
    "score_3M = pd.concat([score_1,score_2,score_3], axis=0)\n",
    "score_3M"
   ]
  },
  {
   "cell_type": "code",
   "execution_count": 101,
   "metadata": {},
   "outputs": [
    {
     "data": {
      "text/plain": [
       "2996.7364069013893"
      ]
     },
     "execution_count": 101,
     "metadata": {},
     "output_type": "execute_result"
    }
   ],
   "source": [
    "score_3M['mae_train'].mean()"
   ]
  },
  {
   "cell_type": "code",
   "execution_count": 102,
   "metadata": {},
   "outputs": [
    {
     "data": {
      "text/plain": [
       "3312.4362876803266"
      ]
     },
     "execution_count": 102,
     "metadata": {},
     "output_type": "execute_result"
    }
   ],
   "source": [
    "score_3M['mae_test'].mean()"
   ]
  },
  {
   "cell_type": "code",
   "execution_count": 103,
   "metadata": {},
   "outputs": [],
   "source": [
    "test_df = all[all['Effective_Date'] >= '2011-10-01']\n",
    "test_df = pd.concat([test_df, predictions_te_flat.set_index(test.index), predictions_te_pca.set_index(test.index), \n",
    "                     predictions_te_autoencoder.set_index(test.index), predictions_te_isomap.set_index(test.index)], axis=1)\n",
    "\n",
    "test_2 = df_new[df_new['Effective_Date'] >= '2011-10-01']\n",
    "test_2_df = pd.concat([test_2, predictions_te_flat.set_index(test.index), predictions_te_pca.set_index(test.index),\n",
    "                      predictions_te_autoencoder.set_index(test.index), predictions_te_isomap.set_index(test.index)], axis=1)"
   ]
  },
  {
   "cell_type": "code",
   "execution_count": 104,
   "metadata": {},
   "outputs": [
    {
     "data": {
      "image/png": "[encoded data removed]",
      "text/plain": [
       "<Figure size 720x360 with 1 Axes>"
      ]
     },
     "metadata": {},
     "output_type": "display_data"
    }
   ],
   "source": [
    "# Plot results\n",
    "sns.set( rc = {'figure.figsize': (10, 5)})\n",
    "fig,ax = plt.subplots(1, 1)\n",
    "sns.kdeplot(x=test_df['Customer_Lifetime_Value'], fill=True, palette=\"crest\", label=\"values\",)\n",
    "sns.kdeplot(x=test_df['Customer_Lifetime_Value_predict_flat'], fill=True, palette=\"crest\", label='gbm flat predicted values')\n",
    "sns.kdeplot(x=test_df['Customer_Lifetime_Value_predict_pca'], fill=True, palette=\"crest\", label='gbm pca predicted values')\n",
    "sns.kdeplot(x=test_df['Customer_Lifetime_Value_predict_autoencoder'], fill=True, palette=\"crest\", label='gbm autoencoder predicted values')\n",
    "sns.kdeplot(x=test_df['Customer_Lifetime_Value_predict_isomap'], fill=True, palette=\"crest\", label='gbm isomap predicted values')\n",
    "plt.title('Customer_Lifetime_Value: target & prediction distribution comparison')\n",
    "ax.legend()\n",
    "plt.show()"
   ]
  },
  {
   "cell_type": "markdown",
   "metadata": {},
   "source": [
    "### Binning"
   ]
  },
  {
   "cell_type": "code",
   "execution_count": 105,
   "metadata": {},
   "outputs": [],
   "source": [
    "binsize_c = 13"
   ]
  },
  {
   "cell_type": "code",
   "execution_count": 106,
   "metadata": {},
   "outputs": [
    {
     "data": {
      "text/plain": [
       "1723.3473039999997"
      ]
     },
     "execution_count": 106,
     "metadata": {},
     "output_type": "execute_result"
    }
   ],
   "source": [
    "claim_range = test_df['Total_Claim_Amount'].max() - test_df['Total_Claim_Amount'].min()\n",
    "claim_range"
   ]
  },
  {
   "cell_type": "code",
   "execution_count": 107,
   "metadata": {},
   "outputs": [
    {
     "data": {
      "text/plain": [
       "(0, 1724, 133)"
      ]
     },
     "execution_count": 107,
     "metadata": {},
     "output_type": "execute_result"
    }
   ],
   "source": [
    "# lower and upper boundaries\n",
    "min_value_c = int(np.floor(test_df['Total_Claim_Amount'].min()))\n",
    "max_value_c = int(np.floor(test_df['Total_Claim_Amount'].max()))\n",
    "inter_value_c = int(np.round(claim_range / binsize_c))\n",
    "min_value_c, max_value_c, inter_value_c"
   ]
  },
  {
   "cell_type": "code",
   "execution_count": 108,
   "metadata": {},
   "outputs": [
    {
     "data": {
      "text/plain": [
       "[0, 133, 266, 399, 532, 665, 798, 931, 1064, 1197, 1330, 1463, 1596, 1729]"
      ]
     },
     "execution_count": 108,
     "metadata": {},
     "output_type": "execute_result"
    }
   ],
   "source": [
    "# interval limits to generate the bins\n",
    "intervals_c = [i for i in range(min_value_c, max_value_c+inter_value_c, inter_value_c)]\n",
    "intervals_c"
   ]
  },
  {
   "cell_type": "code",
   "execution_count": 109,
   "metadata": {},
   "outputs": [],
   "source": [
    "# Total_Claim_Amount discretization\n",
    "test_df['Total_Claim_Amount_binned'] = pd.cut(x=test_df['Total_Claim_Amount'],\n",
    "                             bins=intervals_c,\n",
    "                             include_lowest=True)"
   ]
  },
  {
   "cell_type": "code",
   "execution_count": 110,
   "metadata": {},
   "outputs": [
    {
     "data": {
      "text/plain": [
       "Total_Claim_Amount_binned\n",
       "(-0.001, 133.0]     146\n",
       "(133.0, 266.0]      104\n",
       "(266.0, 399.0]      261\n",
       "(399.0, 532.0]      193\n",
       "(532.0, 665.0]      103\n",
       "(665.0, 798.0]       51\n",
       "(798.0, 931.0]       40\n",
       "(931.0, 1064.0]      25\n",
       "(1064.0, 1197.0]     12\n",
       "(1197.0, 1330.0]      8\n",
       "(1330.0, 1463.0]      9\n",
       "(1463.0, 1596.0]      2\n",
       "(1596.0, 1729.0]      1\n",
       "Name: Total_Claim_Amount, dtype: int64"
      ]
     },
     "execution_count": 110,
     "metadata": {},
     "output_type": "execute_result"
    }
   ],
   "source": [
    "claim_binned = test_df.groupby('Total_Claim_Amount_binned')['Total_Claim_Amount'].count()\n",
    "claim_binned"
   ]
  },
  {
   "cell_type": "code",
   "execution_count": 111,
   "metadata": {},
   "outputs": [
    {
     "data": {
      "image/png": "[encoded data removed]",
      "text/plain": [
       "<Figure size 720x360 with 1 Axes>"
      ]
     },
     "metadata": {},
     "output_type": "display_data"
    }
   ],
   "source": [
    "test_df.groupby('Total_Claim_Amount_binned')['Total_Claim_Amount'].count().plot.bar()\n",
    "plt.xticks(rotation=45)\n",
    "plt.ylabel('Number of observations per bin')\n",
    "plt.show()"
   ]
  },
  {
   "cell_type": "markdown",
   "metadata": {},
   "source": [
    "### Results by grouping data"
   ]
  },
  {
   "cell_type": "code",
   "execution_count": 112,
   "metadata": {},
   "outputs": [],
   "source": [
    "# group test on Total_Claim_Amount\n",
    "test_df_group_claim = test_df.groupby(['Total_Claim_Amount_binned'])['Customer_Lifetime_Value','Customer_Lifetime_Value_predict_flat',\n",
    "                                    'Customer_Lifetime_Value_predict_pca','Customer_Lifetime_Value_predict_autoencoder',\n",
    "                                    'Customer_Lifetime_Value_predict_isomap'].sum().reset_index()"
   ]
  },
  {
   "cell_type": "code",
   "execution_count": 113,
   "metadata": {},
   "outputs": [
    {
     "data": {
      "image/png": "[encoded data removed]",
      "text/plain": [
       "<Figure size 720x360 with 1 Axes>"
      ]
     },
     "metadata": {},
     "output_type": "display_data"
    }
   ],
   "source": [
    "fig = plt.figsize=(30, 30)\n",
    "test_df_group_claim.plot.bar()\n",
    "plt.xticks(rotation=45)\n",
    "plt.ylabel('CLV per bin')\n",
    "plt.xlabel('Total_Claim_Amount_binned')\n",
    "plt.title('CLV on test data set')\n",
    "plt.show()"
   ]
  },
  {
   "cell_type": "code",
   "execution_count": 114,
   "metadata": {},
   "outputs": [],
   "source": [
    "# group test on Monthly Premium Auto\n",
    "test_df_group_premium = test_df.groupby(['Monthly_Premium_Auto'])['Customer_Lifetime_Value',\n",
    "                        'Customer_Lifetime_Value_predict_flat', 'Customer_Lifetime_Value_predict_pca',\n",
    "                        'Customer_Lifetime_Value_predict_autoencoder', 'Customer_Lifetime_Value_predict_isomap'].sum().reset_index()"
   ]
  },
  {
   "cell_type": "code",
   "execution_count": 115,
   "metadata": {},
   "outputs": [
    {
     "data": {
      "image/png": "[encoded data removed]",
      "text/plain": [
       "<Figure size 720x360 with 1 Axes>"
      ]
     },
     "metadata": {},
     "output_type": "display_data"
    }
   ],
   "source": [
    "fig = plt.figsize=(20, 20)\n",
    "test_df_group_premium.plot(x='Monthly_Premium_Auto', \n",
    "                           y=['Customer_Lifetime_Value','Customer_Lifetime_Value_predict_flat',\n",
    "                            'Customer_Lifetime_Value_predict_pca', 'Customer_Lifetime_Value_predict_autoencoder',\n",
    "                             'Customer_Lifetime_Value_predict_isomap'])\n",
    "plt.ylabel('CLV per Monthly Premium Auto')\n",
    "plt.xlabel('Monthly_Premium_Auto')\n",
    "plt.title('CLV on test data set')\n",
    "plt.xticks(rotation=45)\n",
    "plt.show()"
   ]
  },
  {
   "cell_type": "code",
   "execution_count": 116,
   "metadata": {},
   "outputs": [],
   "source": [
    "# group test on location_code\n",
    "test_2_df_group_location = test_2_df.groupby(['Location_Code'])['Customer_Lifetime_Value',\n",
    "                            'Customer_Lifetime_Value_predict_flat','Customer_Lifetime_Value_predict_pca',\n",
    "                            'Customer_Lifetime_Value_predict_autoencoder','Customer_Lifetime_Value_predict_isomap'].sum().reset_index()"
   ]
  },
  {
   "cell_type": "code",
   "execution_count": 117,
   "metadata": {},
   "outputs": [
    {
     "data": {
      "image/png": "[encoded data removed]",
      "text/plain": [
       "<Figure size 720x360 with 1 Axes>"
      ]
     },
     "metadata": {},
     "output_type": "display_data"
    }
   ],
   "source": [
    "fig = plt.figsize=(20, 20)\n",
    "test_2_df_group_location.plot.bar()\n",
    "plt.xticks(rotation=45)\n",
    "plt.ylabel('CLV per bin')\n",
    "plt.xlabel('Location_Code')\n",
    "plt.title('CLV on test data set')\n",
    "plt.legend(bbox_to_anchor=(1,1), loc=\"upper left\")\n",
    "plt.show()"
   ]
  },
  {
   "cell_type": "code",
   "execution_count": 118,
   "metadata": {},
   "outputs": [],
   "source": [
    "# group test on education\n",
    "test_2_df_group_education = test_2_df.groupby(['Education'])['Customer_Lifetime_Value',\n",
    "                            'Customer_Lifetime_Value_predict_flat','Customer_Lifetime_Value_predict_pca',\n",
    "                            'Customer_Lifetime_Value_predict_autoencoder','Customer_Lifetime_Value_predict_isomap'].sum().reset_index()"
   ]
  },
  {
   "cell_type": "code",
   "execution_count": 119,
   "metadata": {},
   "outputs": [
    {
     "data": {
      "image/png": "[encoded data removed]",
      "text/plain": [
       "<Figure size 720x360 with 1 Axes>"
      ]
     },
     "metadata": {},
     "output_type": "display_data"
    }
   ],
   "source": [
    "fig = plt.figsize=(20, 20)\n",
    "test_2_df_group_education.plot.bar()\n",
    "plt.xticks(rotation=45)\n",
    "plt.ylabel('CLV per bin')\n",
    "plt.xlabel('Education')\n",
    "plt.title('CLV on test data set')\n",
    "plt.legend(bbox_to_anchor=(1,1), loc=\"upper left\")\n",
    "plt.show()"
   ]
  },
  {
   "cell_type": "code",
   "execution_count": null,
   "metadata": {},
   "outputs": [],
   "source": []
  },
  {
   "cell_type": "code",
   "execution_count": null,
   "metadata": {},
   "outputs": [],
   "source": []
  },
  {
   "cell_type": "code",
   "execution_count": null,
   "metadata": {},
   "outputs": [],
   "source": []
  }
 ],
 "metadata": {
  "kernelspec": {
   "display_name": "Python 3",
   "language": "python",
   "name": "python3"
  },
  "language_info": {
   "codemirror_mode": {
    "name": "ipython",
    "version": 3
   },
   "file_extension": ".py",
   "mimetype": "text/x-python",
   "name": "python",
   "nbconvert_exporter": "python",
   "pygments_lexer": "ipython3",
   "version": "3.8.5"
  }
 },
 "nbformat": 4,
 "nbformat_minor": 2
}
