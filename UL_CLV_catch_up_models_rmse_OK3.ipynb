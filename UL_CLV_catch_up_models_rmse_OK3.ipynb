{
 "cells": [
  {
   "cell_type": "markdown",
   "metadata": {},
   "source": [
    "# Unsupervised Learning applied to Customer Lifetime Value (CLV)"
   ]
  },
  {
   "cell_type": "markdown",
   "metadata": {},
   "source": [
    "![](https://wilsonprintingusa.com/wp-content/uploads/2015/02/Customer-Lifetime-Value-Wilson-Printing.jpg)"
   ]
  },
  {
   "cell_type": "markdown",
   "metadata": {},
   "source": [
    "# Prepare Workspace"
   ]
  },
  {
   "cell_type": "code",
   "execution_count": 1,
   "metadata": {},
   "outputs": [],
   "source": [
    "# Upload libraries\n",
    "from numpy.random import seed\n",
    "seed(1)\n",
    "import tensorflow.keras\n",
    "tensorflow.random.set_seed(2)\n",
    "\n",
    "# to handle datasets\n",
    "import numpy as np\n",
    "import pandas as pd\n",
    "import datetime\n",
    "\n",
    "# for plotting\n",
    "import matplotlib.pyplot as plt\n",
    "%matplotlib inline\n",
    "import seaborn as sns\n",
    "from mpl_toolkits.mplot3d import Axes3D\n",
    "import matplotlib.pyplot as plt\n",
    "from pandas.plotting import autocorrelation_plot\n",
    "\n",
    "# for statistics\n",
    "import statistics as st \n",
    "import scipy.stats as stats\n",
    "import statsmodels.api as sm\n",
    "import statsmodels.formula.api as smf\n",
    "\n",
    "# to split data set \n",
    "from sklearn.model_selection import train_test_split\n",
    "\n",
    "# feature scaling\n",
    "from sklearn.preprocessing import MinMaxScaler\n",
    "from sklearn.preprocessing import StandardScaler\n",
    "\n",
    "# to build models\n",
    "from sklearn.model_selection import KFold\n",
    "from sklearn.model_selection import GridSearchCV\n",
    "from sklearn.ensemble import GradientBoostingRegressor\n",
    "from sklearn.linear_model import TweedieRegressor\n",
    "from sklearn.ensemble import RandomForestRegressor\n",
    "from sklearn.neural_network import MLPRegressor\n",
    "\n",
    "\n",
    "# dimensionality reductiion\n",
    "from sklearn.decomposition import PCA\n",
    "from sklearn.manifold import Isomap\n",
    "from sklearn.manifold import TSNE\n",
    "from keras.layers import Input,Dense\n",
    "from keras.models import Model\n",
    "\n",
    "# clustering\n",
    "from sklearn.cluster import KMeans\n",
    "from sklearn.mixture import GaussianMixture\n",
    "import scipy.cluster.hierarchy as sch\n",
    "from sklearn.cluster import AgglomerativeClustering\n",
    "from sklearn.cluster import DBSCAN\n",
    "from sklearn.neighbors import NearestNeighbors\n",
    "\n",
    "# to evaluate models\n",
    "from sklearn.metrics import mean_squared_error\n",
    "from sklearn.metrics import silhouette_score\n",
    "\n",
    "import warnings\n",
    "warnings.filterwarnings('ignore')"
   ]
  },
  {
   "cell_type": "code",
   "execution_count": 2,
   "metadata": {},
   "outputs": [],
   "source": [
    "df = pd.read_csv('AutoInsurance.csv')"
   ]
  },
  {
   "cell_type": "markdown",
   "metadata": {},
   "source": [
    "# Data set Overview"
   ]
  },
  {
   "cell_type": "code",
   "execution_count": 3,
   "metadata": {},
   "outputs": [
    {
     "name": "stdout",
     "output_type": "stream",
     "text": [
      "(9134, 24)\n"
     ]
    }
   ],
   "source": [
    "# Dimensions of data set\n",
    "print(df.shape)"
   ]
  },
  {
   "cell_type": "code",
   "execution_count": 4,
   "metadata": {},
   "outputs": [
    {
     "name": "stdout",
     "output_type": "stream",
     "text": [
      "<class 'pandas.core.frame.DataFrame'>\n",
      "RangeIndex: 9134 entries, 0 to 9133\n",
      "Data columns (total 24 columns):\n",
      " #   Column                         Non-Null Count  Dtype  \n",
      "---  ------                         --------------  -----  \n",
      " 0   Customer                       9134 non-null   object \n",
      " 1   State                          9134 non-null   object \n",
      " 2   Customer Lifetime Value        9134 non-null   float64\n",
      " 3   Response                       9134 non-null   object \n",
      " 4   Coverage                       9134 non-null   object \n",
      " 5   Education                      9134 non-null   object \n",
      " 6   Effective To Date              9134 non-null   object \n",
      " 7   EmploymentStatus               9134 non-null   object \n",
      " 8   Gender                         9134 non-null   object \n",
      " 9   Income                         9134 non-null   int64  \n",
      " 10  Location Code                  9134 non-null   object \n",
      " 11  Marital Status                 9134 non-null   object \n",
      " 12  Monthly Premium Auto           9134 non-null   int64  \n",
      " 13  Months Since Last Claim        9134 non-null   int64  \n",
      " 14  Months Since Policy Inception  9134 non-null   int64  \n",
      " 15  Number of Open Complaints      9134 non-null   int64  \n",
      " 16  Number of Policies             9134 non-null   int64  \n",
      " 17  Policy Type                    9134 non-null   object \n",
      " 18  Policy                         9134 non-null   object \n",
      " 19  Renew Offer Type               9134 non-null   object \n",
      " 20  Sales Channel                  9134 non-null   object \n",
      " 21  Total Claim Amount             9134 non-null   float64\n",
      " 22  Vehicle Class                  9134 non-null   object \n",
      " 23  Vehicle Size                   9134 non-null   object \n",
      "dtypes: float64(2), int64(6), object(16)\n",
      "memory usage: 1.7+ MB\n",
      "None\n"
     ]
    }
   ],
   "source": [
    "# List types for each attribute\n",
    "print(df.info())"
   ]
  },
  {
   "cell_type": "code",
   "execution_count": 5,
   "metadata": {},
   "outputs": [
    {
     "data": {
      "text/html": [
       "<div>\n",
       "<style scoped>\n",
       "    .dataframe tbody tr th:only-of-type {\n",
       "        vertical-align: middle;\n",
       "    }\n",
       "\n",
       "    .dataframe tbody tr th {\n",
       "        vertical-align: top;\n",
       "    }\n",
       "\n",
       "    .dataframe thead th {\n",
       "        text-align: right;\n",
       "    }\n",
       "</style>\n",
       "<table border=\"1\" class=\"dataframe\">\n",
       "  <thead>\n",
       "    <tr style=\"text-align: right;\">\n",
       "      <th></th>\n",
       "      <th>Customer</th>\n",
       "      <th>State</th>\n",
       "      <th>Customer Lifetime Value</th>\n",
       "      <th>Response</th>\n",
       "      <th>Coverage</th>\n",
       "      <th>Education</th>\n",
       "      <th>Effective To Date</th>\n",
       "      <th>EmploymentStatus</th>\n",
       "      <th>Gender</th>\n",
       "      <th>Income</th>\n",
       "      <th>...</th>\n",
       "      <th>Months Since Policy Inception</th>\n",
       "      <th>Number of Open Complaints</th>\n",
       "      <th>Number of Policies</th>\n",
       "      <th>Policy Type</th>\n",
       "      <th>Policy</th>\n",
       "      <th>Renew Offer Type</th>\n",
       "      <th>Sales Channel</th>\n",
       "      <th>Total Claim Amount</th>\n",
       "      <th>Vehicle Class</th>\n",
       "      <th>Vehicle Size</th>\n",
       "    </tr>\n",
       "  </thead>\n",
       "  <tbody>\n",
       "    <tr>\n",
       "      <th>0</th>\n",
       "      <td>BU79786</td>\n",
       "      <td>Washington</td>\n",
       "      <td>2763.519279</td>\n",
       "      <td>No</td>\n",
       "      <td>Basic</td>\n",
       "      <td>Bachelor</td>\n",
       "      <td>2/24/11</td>\n",
       "      <td>Employed</td>\n",
       "      <td>F</td>\n",
       "      <td>56274</td>\n",
       "      <td>...</td>\n",
       "      <td>5</td>\n",
       "      <td>0</td>\n",
       "      <td>1</td>\n",
       "      <td>Corporate Auto</td>\n",
       "      <td>Corporate L3</td>\n",
       "      <td>Offer1</td>\n",
       "      <td>Agent</td>\n",
       "      <td>384.811147</td>\n",
       "      <td>Two-Door Car</td>\n",
       "      <td>Medsize</td>\n",
       "    </tr>\n",
       "    <tr>\n",
       "      <th>1</th>\n",
       "      <td>QZ44356</td>\n",
       "      <td>Arizona</td>\n",
       "      <td>6979.535903</td>\n",
       "      <td>No</td>\n",
       "      <td>Extended</td>\n",
       "      <td>Bachelor</td>\n",
       "      <td>1/31/11</td>\n",
       "      <td>Unemployed</td>\n",
       "      <td>F</td>\n",
       "      <td>0</td>\n",
       "      <td>...</td>\n",
       "      <td>42</td>\n",
       "      <td>0</td>\n",
       "      <td>8</td>\n",
       "      <td>Personal Auto</td>\n",
       "      <td>Personal L3</td>\n",
       "      <td>Offer3</td>\n",
       "      <td>Agent</td>\n",
       "      <td>1131.464935</td>\n",
       "      <td>Four-Door Car</td>\n",
       "      <td>Medsize</td>\n",
       "    </tr>\n",
       "    <tr>\n",
       "      <th>2</th>\n",
       "      <td>AI49188</td>\n",
       "      <td>Nevada</td>\n",
       "      <td>12887.431650</td>\n",
       "      <td>No</td>\n",
       "      <td>Premium</td>\n",
       "      <td>Bachelor</td>\n",
       "      <td>2/19/11</td>\n",
       "      <td>Employed</td>\n",
       "      <td>F</td>\n",
       "      <td>48767</td>\n",
       "      <td>...</td>\n",
       "      <td>38</td>\n",
       "      <td>0</td>\n",
       "      <td>2</td>\n",
       "      <td>Personal Auto</td>\n",
       "      <td>Personal L3</td>\n",
       "      <td>Offer1</td>\n",
       "      <td>Agent</td>\n",
       "      <td>566.472247</td>\n",
       "      <td>Two-Door Car</td>\n",
       "      <td>Medsize</td>\n",
       "    </tr>\n",
       "    <tr>\n",
       "      <th>3</th>\n",
       "      <td>WW63253</td>\n",
       "      <td>California</td>\n",
       "      <td>7645.861827</td>\n",
       "      <td>No</td>\n",
       "      <td>Basic</td>\n",
       "      <td>Bachelor</td>\n",
       "      <td>1/20/11</td>\n",
       "      <td>Unemployed</td>\n",
       "      <td>M</td>\n",
       "      <td>0</td>\n",
       "      <td>...</td>\n",
       "      <td>65</td>\n",
       "      <td>0</td>\n",
       "      <td>7</td>\n",
       "      <td>Corporate Auto</td>\n",
       "      <td>Corporate L2</td>\n",
       "      <td>Offer1</td>\n",
       "      <td>Call Center</td>\n",
       "      <td>529.881344</td>\n",
       "      <td>SUV</td>\n",
       "      <td>Medsize</td>\n",
       "    </tr>\n",
       "    <tr>\n",
       "      <th>4</th>\n",
       "      <td>HB64268</td>\n",
       "      <td>Washington</td>\n",
       "      <td>2813.692575</td>\n",
       "      <td>No</td>\n",
       "      <td>Basic</td>\n",
       "      <td>Bachelor</td>\n",
       "      <td>3/2/2011</td>\n",
       "      <td>Employed</td>\n",
       "      <td>M</td>\n",
       "      <td>43836</td>\n",
       "      <td>...</td>\n",
       "      <td>44</td>\n",
       "      <td>0</td>\n",
       "      <td>1</td>\n",
       "      <td>Personal Auto</td>\n",
       "      <td>Personal L1</td>\n",
       "      <td>Offer1</td>\n",
       "      <td>Agent</td>\n",
       "      <td>138.130879</td>\n",
       "      <td>Four-Door Car</td>\n",
       "      <td>Medsize</td>\n",
       "    </tr>\n",
       "  </tbody>\n",
       "</table>\n",
       "<p>5 rows × 24 columns</p>\n",
       "</div>"
      ],
      "text/plain": [
       "  Customer       State  Customer Lifetime Value Response  Coverage Education  \\\n",
       "0  BU79786  Washington              2763.519279       No     Basic  Bachelor   \n",
       "1  QZ44356     Arizona              6979.535903       No  Extended  Bachelor   \n",
       "2  AI49188      Nevada             12887.431650       No   Premium  Bachelor   \n",
       "3  WW63253  California              7645.861827       No     Basic  Bachelor   \n",
       "4  HB64268  Washington              2813.692575       No     Basic  Bachelor   \n",
       "\n",
       "  Effective To Date EmploymentStatus Gender  Income  ...  \\\n",
       "0           2/24/11         Employed      F   56274  ...   \n",
       "1           1/31/11       Unemployed      F       0  ...   \n",
       "2           2/19/11         Employed      F   48767  ...   \n",
       "3           1/20/11       Unemployed      M       0  ...   \n",
       "4          3/2/2011         Employed      M   43836  ...   \n",
       "\n",
       "  Months Since Policy Inception Number of Open Complaints  Number of Policies  \\\n",
       "0                             5                         0                   1   \n",
       "1                            42                         0                   8   \n",
       "2                            38                         0                   2   \n",
       "3                            65                         0                   7   \n",
       "4                            44                         0                   1   \n",
       "\n",
       "      Policy Type        Policy  Renew Offer Type  Sales Channel  \\\n",
       "0  Corporate Auto  Corporate L3            Offer1          Agent   \n",
       "1   Personal Auto   Personal L3            Offer3          Agent   \n",
       "2   Personal Auto   Personal L3            Offer1          Agent   \n",
       "3  Corporate Auto  Corporate L2            Offer1    Call Center   \n",
       "4   Personal Auto   Personal L1            Offer1          Agent   \n",
       "\n",
       "  Total Claim Amount  Vehicle Class Vehicle Size  \n",
       "0         384.811147   Two-Door Car      Medsize  \n",
       "1        1131.464935  Four-Door Car      Medsize  \n",
       "2         566.472247   Two-Door Car      Medsize  \n",
       "3         529.881344            SUV      Medsize  \n",
       "4         138.130879  Four-Door Car      Medsize  \n",
       "\n",
       "[5 rows x 24 columns]"
      ]
     },
     "execution_count": 5,
     "metadata": {},
     "output_type": "execute_result"
    }
   ],
   "source": [
    "# Take a peek at the first rows of the data\n",
    "df.head()"
   ]
  },
  {
   "cell_type": "markdown",
   "metadata": {},
   "source": [
    "# Data Cleaning & Handling Variables Activity"
   ]
  },
  {
   "cell_type": "code",
   "execution_count": 6,
   "metadata": {},
   "outputs": [],
   "source": [
    "# Change format Date\n",
    "df_1 = df.copy()\n",
    "df_1['Effective_Date'] = pd.to_datetime(df_1['Effective To Date'])"
   ]
  },
  {
   "cell_type": "markdown",
   "metadata": {},
   "source": [
    "### Handling Missing Values"
   ]
  },
  {
   "cell_type": "code",
   "execution_count": 7,
   "metadata": {},
   "outputs": [
    {
     "data": {
      "text/plain": [
       "Customer                         0.0\n",
       "State                            0.0\n",
       "Customer Lifetime Value          0.0\n",
       "Response                         0.0\n",
       "Coverage                         0.0\n",
       "Education                        0.0\n",
       "Effective To Date                0.0\n",
       "EmploymentStatus                 0.0\n",
       "Gender                           0.0\n",
       "Income                           0.0\n",
       "Location Code                    0.0\n",
       "Marital Status                   0.0\n",
       "Monthly Premium Auto             0.0\n",
       "Months Since Last Claim          0.0\n",
       "Months Since Policy Inception    0.0\n",
       "Number of Open Complaints        0.0\n",
       "Number of Policies               0.0\n",
       "Policy Type                      0.0\n",
       "Policy                           0.0\n",
       "Renew Offer Type                 0.0\n",
       "Sales Channel                    0.0\n",
       "Total Claim Amount               0.0\n",
       "Vehicle Class                    0.0\n",
       "Vehicle Size                     0.0\n",
       "Effective_Date                   0.0\n",
       "dtype: float64"
      ]
     },
     "execution_count": 7,
     "metadata": {},
     "output_type": "execute_result"
    }
   ],
   "source": [
    "# Check missing values both to numeric features and categorical features \n",
    "missing = df_1.isnull().sum()/df_1.shape[0]*100\n",
    "missing"
   ]
  },
  {
   "cell_type": "code",
   "execution_count": 8,
   "metadata": {},
   "outputs": [
    {
     "data": {
      "text/plain": [
       "Timestamp('2011-01-01 00:00:00')"
      ]
     },
     "execution_count": 8,
     "metadata": {},
     "output_type": "execute_result"
    }
   ],
   "source": [
    "# Min Value Effective to Date Policy\n",
    "df_1['Effective_Date'].min()"
   ]
  },
  {
   "cell_type": "code",
   "execution_count": 9,
   "metadata": {},
   "outputs": [
    {
     "data": {
      "text/plain": [
       "Timestamp('2011-12-02 00:00:00')"
      ]
     },
     "execution_count": 9,
     "metadata": {},
     "output_type": "execute_result"
    }
   ],
   "source": [
    "# Max Value Effective to Date Policy\n",
    "df_1['Effective_Date'].max()"
   ]
  },
  {
   "cell_type": "code",
   "execution_count": 10,
   "metadata": {},
   "outputs": [],
   "source": [
    "# End of Year (eoy) of the current Effective to Date\n",
    "df_1['eoy_Effective_Date'] = pd.to_datetime('2011-12-31')"
   ]
  },
  {
   "cell_type": "code",
   "execution_count": 11,
   "metadata": {},
   "outputs": [],
   "source": [
    "# Days missing to the end of the current year from effective to date\n",
    "df_1['eoy_missing_days'] = (df_1['eoy_Effective_Date'] - df_1['Effective_Date']).dt.days"
   ]
  },
  {
   "cell_type": "code",
   "execution_count": 12,
   "metadata": {},
   "outputs": [],
   "source": [
    "# check duplicates\n",
    "df_1_duplicates = df_1[df_1.duplicated(['Customer'])]"
   ]
  },
  {
   "cell_type": "code",
   "execution_count": 13,
   "metadata": {},
   "outputs": [
    {
     "data": {
      "text/html": [
       "<div>\n",
       "<style scoped>\n",
       "    .dataframe tbody tr th:only-of-type {\n",
       "        vertical-align: middle;\n",
       "    }\n",
       "\n",
       "    .dataframe tbody tr th {\n",
       "        vertical-align: top;\n",
       "    }\n",
       "\n",
       "    .dataframe thead th {\n",
       "        text-align: right;\n",
       "    }\n",
       "</style>\n",
       "<table border=\"1\" class=\"dataframe\">\n",
       "  <thead>\n",
       "    <tr style=\"text-align: right;\">\n",
       "      <th></th>\n",
       "      <th>Customer</th>\n",
       "      <th>State</th>\n",
       "      <th>Customer Lifetime Value</th>\n",
       "      <th>Response</th>\n",
       "      <th>Coverage</th>\n",
       "      <th>Education</th>\n",
       "      <th>Effective To Date</th>\n",
       "      <th>EmploymentStatus</th>\n",
       "      <th>Gender</th>\n",
       "      <th>Income</th>\n",
       "      <th>...</th>\n",
       "      <th>Policy Type</th>\n",
       "      <th>Policy</th>\n",
       "      <th>Renew Offer Type</th>\n",
       "      <th>Sales Channel</th>\n",
       "      <th>Total Claim Amount</th>\n",
       "      <th>Vehicle Class</th>\n",
       "      <th>Vehicle Size</th>\n",
       "      <th>Effective_Date</th>\n",
       "      <th>eoy_Effective_Date</th>\n",
       "      <th>eoy_missing_days</th>\n",
       "    </tr>\n",
       "  </thead>\n",
       "  <tbody>\n",
       "  </tbody>\n",
       "</table>\n",
       "<p>0 rows × 27 columns</p>\n",
       "</div>"
      ],
      "text/plain": [
       "Empty DataFrame\n",
       "Columns: [Customer, State, Customer Lifetime Value, Response, Coverage, Education, Effective To Date, EmploymentStatus, Gender, Income, Location Code, Marital Status, Monthly Premium Auto, Months Since Last Claim, Months Since Policy Inception, Number of Open Complaints, Number of Policies, Policy Type, Policy, Renew Offer Type, Sales Channel, Total Claim Amount, Vehicle Class, Vehicle Size, Effective_Date, eoy_Effective_Date, eoy_missing_days]\n",
       "Index: []\n",
       "\n",
       "[0 rows x 27 columns]"
      ]
     },
     "execution_count": 13,
     "metadata": {},
     "output_type": "execute_result"
    }
   ],
   "source": [
    "df_1_duplicates"
   ]
  },
  {
   "cell_type": "code",
   "execution_count": 14,
   "metadata": {},
   "outputs": [],
   "source": [
    "df_1 = df_1.drop(['Customer','Effective To Date','eoy_Effective_Date'], axis=1)"
   ]
  },
  {
   "cell_type": "code",
   "execution_count": 15,
   "metadata": {},
   "outputs": [],
   "source": [
    "# Rename some features for a practical use\n",
    "df_new = df_1.copy()\n",
    "df_new = df_new.rename(columns={\"Customer Lifetime Value\":\"Customer_Lifetime_Value\",\"Location Code\":\"Location_Code\",\"Marital Status\":\"Marital_Status\",\"Monthly Premium Auto\":\"Monthly_Premium_Auto\",\"Months Since Last Claim\":\"Months_Since_Last_Claim\",\n",
    "                           \"Months Since Policy Inception\":\"Months_Since_Policy_Inception\",\"Number of Open Complaints\":\"Number_of_Open_Complaints\",\"Number of Policies\":\"Number_of_Policies\",\n",
    "                           \"Policy Type\":\"Policy_Type\",\"Renew Offer Type\":\"Renew_Offer_Type\",\"Sales Channel\":\"Sales_Channel\",\"Total Claim Amount\":\"Total_Claim_Amount\",\n",
    "                           \"Vehicle Class\":\"Vehicle_Class\",\"Vehicle Size\":\"Vehicle_Size\"})"
   ]
  },
  {
   "cell_type": "markdown",
   "metadata": {},
   "source": [
    "# Summary Statistics"
   ]
  },
  {
   "cell_type": "code",
   "execution_count": 16,
   "metadata": {},
   "outputs": [
    {
     "data": {
      "text/html": [
       "<div>\n",
       "<style scoped>\n",
       "    .dataframe tbody tr th:only-of-type {\n",
       "        vertical-align: middle;\n",
       "    }\n",
       "\n",
       "    .dataframe tbody tr th {\n",
       "        vertical-align: top;\n",
       "    }\n",
       "\n",
       "    .dataframe thead th {\n",
       "        text-align: right;\n",
       "    }\n",
       "</style>\n",
       "<table border=\"1\" class=\"dataframe\">\n",
       "  <thead>\n",
       "    <tr style=\"text-align: right;\">\n",
       "      <th></th>\n",
       "      <th>count</th>\n",
       "      <th>unique</th>\n",
       "      <th>top</th>\n",
       "      <th>freq</th>\n",
       "    </tr>\n",
       "  </thead>\n",
       "  <tbody>\n",
       "    <tr>\n",
       "      <th>State</th>\n",
       "      <td>9134</td>\n",
       "      <td>5</td>\n",
       "      <td>California</td>\n",
       "      <td>3150</td>\n",
       "    </tr>\n",
       "    <tr>\n",
       "      <th>Response</th>\n",
       "      <td>9134</td>\n",
       "      <td>2</td>\n",
       "      <td>No</td>\n",
       "      <td>7826</td>\n",
       "    </tr>\n",
       "    <tr>\n",
       "      <th>Coverage</th>\n",
       "      <td>9134</td>\n",
       "      <td>3</td>\n",
       "      <td>Basic</td>\n",
       "      <td>5568</td>\n",
       "    </tr>\n",
       "    <tr>\n",
       "      <th>Education</th>\n",
       "      <td>9134</td>\n",
       "      <td>5</td>\n",
       "      <td>Bachelor</td>\n",
       "      <td>2748</td>\n",
       "    </tr>\n",
       "    <tr>\n",
       "      <th>EmploymentStatus</th>\n",
       "      <td>9134</td>\n",
       "      <td>5</td>\n",
       "      <td>Employed</td>\n",
       "      <td>5698</td>\n",
       "    </tr>\n",
       "    <tr>\n",
       "      <th>Gender</th>\n",
       "      <td>9134</td>\n",
       "      <td>2</td>\n",
       "      <td>F</td>\n",
       "      <td>4658</td>\n",
       "    </tr>\n",
       "    <tr>\n",
       "      <th>Location_Code</th>\n",
       "      <td>9134</td>\n",
       "      <td>3</td>\n",
       "      <td>Suburban</td>\n",
       "      <td>5779</td>\n",
       "    </tr>\n",
       "    <tr>\n",
       "      <th>Marital_Status</th>\n",
       "      <td>9134</td>\n",
       "      <td>3</td>\n",
       "      <td>Married</td>\n",
       "      <td>5298</td>\n",
       "    </tr>\n",
       "    <tr>\n",
       "      <th>Policy_Type</th>\n",
       "      <td>9134</td>\n",
       "      <td>3</td>\n",
       "      <td>Personal Auto</td>\n",
       "      <td>6788</td>\n",
       "    </tr>\n",
       "    <tr>\n",
       "      <th>Policy</th>\n",
       "      <td>9134</td>\n",
       "      <td>9</td>\n",
       "      <td>Personal L3</td>\n",
       "      <td>3426</td>\n",
       "    </tr>\n",
       "    <tr>\n",
       "      <th>Renew_Offer_Type</th>\n",
       "      <td>9134</td>\n",
       "      <td>4</td>\n",
       "      <td>Offer1</td>\n",
       "      <td>3752</td>\n",
       "    </tr>\n",
       "    <tr>\n",
       "      <th>Sales_Channel</th>\n",
       "      <td>9134</td>\n",
       "      <td>4</td>\n",
       "      <td>Agent</td>\n",
       "      <td>3477</td>\n",
       "    </tr>\n",
       "    <tr>\n",
       "      <th>Vehicle_Class</th>\n",
       "      <td>9134</td>\n",
       "      <td>6</td>\n",
       "      <td>Four-Door Car</td>\n",
       "      <td>4621</td>\n",
       "    </tr>\n",
       "    <tr>\n",
       "      <th>Vehicle_Size</th>\n",
       "      <td>9134</td>\n",
       "      <td>3</td>\n",
       "      <td>Medsize</td>\n",
       "      <td>6424</td>\n",
       "    </tr>\n",
       "  </tbody>\n",
       "</table>\n",
       "</div>"
      ],
      "text/plain": [
       "                 count unique            top  freq\n",
       "State             9134      5     California  3150\n",
       "Response          9134      2             No  7826\n",
       "Coverage          9134      3          Basic  5568\n",
       "Education         9134      5       Bachelor  2748\n",
       "EmploymentStatus  9134      5       Employed  5698\n",
       "Gender            9134      2              F  4658\n",
       "Location_Code     9134      3       Suburban  5779\n",
       "Marital_Status    9134      3        Married  5298\n",
       "Policy_Type       9134      3  Personal Auto  6788\n",
       "Policy            9134      9    Personal L3  3426\n",
       "Renew_Offer_Type  9134      4         Offer1  3752\n",
       "Sales_Channel     9134      4          Agent  3477\n",
       "Vehicle_Class     9134      6  Four-Door Car  4621\n",
       "Vehicle_Size      9134      3        Medsize  6424"
      ]
     },
     "execution_count": 16,
     "metadata": {},
     "output_type": "execute_result"
    }
   ],
   "source": [
    "# Summarize attribute distributions for data type of variables\n",
    "obj_cols = [var for var in df_new.columns if df_new[var].dtype=='object']\n",
    "df_new[obj_cols].describe().T"
   ]
  },
  {
   "cell_type": "code",
   "execution_count": 17,
   "metadata": {},
   "outputs": [
    {
     "data": {
      "text/html": [
       "<div>\n",
       "<style scoped>\n",
       "    .dataframe tbody tr th:only-of-type {\n",
       "        vertical-align: middle;\n",
       "    }\n",
       "\n",
       "    .dataframe tbody tr th {\n",
       "        vertical-align: top;\n",
       "    }\n",
       "\n",
       "    .dataframe thead th {\n",
       "        text-align: right;\n",
       "    }\n",
       "</style>\n",
       "<table border=\"1\" class=\"dataframe\">\n",
       "  <thead>\n",
       "    <tr style=\"text-align: right;\">\n",
       "      <th></th>\n",
       "      <th>count</th>\n",
       "      <th>mean</th>\n",
       "      <th>std</th>\n",
       "      <th>min</th>\n",
       "      <th>25%</th>\n",
       "      <th>50%</th>\n",
       "      <th>75%</th>\n",
       "      <th>max</th>\n",
       "    </tr>\n",
       "  </thead>\n",
       "  <tbody>\n",
       "    <tr>\n",
       "      <th>Customer_Lifetime_Value</th>\n",
       "      <td>9134.0</td>\n",
       "      <td>8004.940475</td>\n",
       "      <td>6870.967608</td>\n",
       "      <td>1898.007675</td>\n",
       "      <td>3994.251794</td>\n",
       "      <td>5780.182197</td>\n",
       "      <td>8962.167041</td>\n",
       "      <td>83325.381190</td>\n",
       "    </tr>\n",
       "    <tr>\n",
       "      <th>Income</th>\n",
       "      <td>9134.0</td>\n",
       "      <td>37657.380009</td>\n",
       "      <td>30379.904734</td>\n",
       "      <td>0.000000</td>\n",
       "      <td>0.000000</td>\n",
       "      <td>33889.500000</td>\n",
       "      <td>62320.000000</td>\n",
       "      <td>99981.000000</td>\n",
       "    </tr>\n",
       "    <tr>\n",
       "      <th>Monthly_Premium_Auto</th>\n",
       "      <td>9134.0</td>\n",
       "      <td>93.219291</td>\n",
       "      <td>34.407967</td>\n",
       "      <td>61.000000</td>\n",
       "      <td>68.000000</td>\n",
       "      <td>83.000000</td>\n",
       "      <td>109.000000</td>\n",
       "      <td>298.000000</td>\n",
       "    </tr>\n",
       "    <tr>\n",
       "      <th>Months_Since_Last_Claim</th>\n",
       "      <td>9134.0</td>\n",
       "      <td>15.097000</td>\n",
       "      <td>10.073257</td>\n",
       "      <td>0.000000</td>\n",
       "      <td>6.000000</td>\n",
       "      <td>14.000000</td>\n",
       "      <td>23.000000</td>\n",
       "      <td>35.000000</td>\n",
       "    </tr>\n",
       "    <tr>\n",
       "      <th>Months_Since_Policy_Inception</th>\n",
       "      <td>9134.0</td>\n",
       "      <td>48.064594</td>\n",
       "      <td>27.905991</td>\n",
       "      <td>0.000000</td>\n",
       "      <td>24.000000</td>\n",
       "      <td>48.000000</td>\n",
       "      <td>71.000000</td>\n",
       "      <td>99.000000</td>\n",
       "    </tr>\n",
       "    <tr>\n",
       "      <th>Number_of_Open_Complaints</th>\n",
       "      <td>9134.0</td>\n",
       "      <td>0.384388</td>\n",
       "      <td>0.910384</td>\n",
       "      <td>0.000000</td>\n",
       "      <td>0.000000</td>\n",
       "      <td>0.000000</td>\n",
       "      <td>0.000000</td>\n",
       "      <td>5.000000</td>\n",
       "    </tr>\n",
       "    <tr>\n",
       "      <th>Number_of_Policies</th>\n",
       "      <td>9134.0</td>\n",
       "      <td>2.966170</td>\n",
       "      <td>2.390182</td>\n",
       "      <td>1.000000</td>\n",
       "      <td>1.000000</td>\n",
       "      <td>2.000000</td>\n",
       "      <td>4.000000</td>\n",
       "      <td>9.000000</td>\n",
       "    </tr>\n",
       "    <tr>\n",
       "      <th>Total_Claim_Amount</th>\n",
       "      <td>9134.0</td>\n",
       "      <td>434.088794</td>\n",
       "      <td>290.500092</td>\n",
       "      <td>0.099007</td>\n",
       "      <td>272.258244</td>\n",
       "      <td>383.945434</td>\n",
       "      <td>547.514839</td>\n",
       "      <td>2893.239678</td>\n",
       "    </tr>\n",
       "    <tr>\n",
       "      <th>eoy_missing_days</th>\n",
       "      <td>9134.0</td>\n",
       "      <td>276.667068</td>\n",
       "      <td>93.820412</td>\n",
       "      <td>29.000000</td>\n",
       "      <td>244.000000</td>\n",
       "      <td>315.000000</td>\n",
       "      <td>340.000000</td>\n",
       "      <td>364.000000</td>\n",
       "    </tr>\n",
       "  </tbody>\n",
       "</table>\n",
       "</div>"
      ],
      "text/plain": [
       "                                count          mean           std  \\\n",
       "Customer_Lifetime_Value        9134.0   8004.940475   6870.967608   \n",
       "Income                         9134.0  37657.380009  30379.904734   \n",
       "Monthly_Premium_Auto           9134.0     93.219291     34.407967   \n",
       "Months_Since_Last_Claim        9134.0     15.097000     10.073257   \n",
       "Months_Since_Policy_Inception  9134.0     48.064594     27.905991   \n",
       "Number_of_Open_Complaints      9134.0      0.384388      0.910384   \n",
       "Number_of_Policies             9134.0      2.966170      2.390182   \n",
       "Total_Claim_Amount             9134.0    434.088794    290.500092   \n",
       "eoy_missing_days               9134.0    276.667068     93.820412   \n",
       "\n",
       "                                       min          25%           50%  \\\n",
       "Customer_Lifetime_Value        1898.007675  3994.251794   5780.182197   \n",
       "Income                            0.000000     0.000000  33889.500000   \n",
       "Monthly_Premium_Auto             61.000000    68.000000     83.000000   \n",
       "Months_Since_Last_Claim           0.000000     6.000000     14.000000   \n",
       "Months_Since_Policy_Inception     0.000000    24.000000     48.000000   \n",
       "Number_of_Open_Complaints         0.000000     0.000000      0.000000   \n",
       "Number_of_Policies                1.000000     1.000000      2.000000   \n",
       "Total_Claim_Amount                0.099007   272.258244    383.945434   \n",
       "eoy_missing_days                 29.000000   244.000000    315.000000   \n",
       "\n",
       "                                        75%           max  \n",
       "Customer_Lifetime_Value         8962.167041  83325.381190  \n",
       "Income                         62320.000000  99981.000000  \n",
       "Monthly_Premium_Auto             109.000000    298.000000  \n",
       "Months_Since_Last_Claim           23.000000     35.000000  \n",
       "Months_Since_Policy_Inception     71.000000     99.000000  \n",
       "Number_of_Open_Complaints          0.000000      5.000000  \n",
       "Number_of_Policies                 4.000000      9.000000  \n",
       "Total_Claim_Amount               547.514839   2893.239678  \n",
       "eoy_missing_days                 340.000000    364.000000  "
      ]
     },
     "execution_count": 17,
     "metadata": {},
     "output_type": "execute_result"
    }
   ],
   "source": [
    "# Summarize attribute distributions for data type of variables\n",
    "no_obj_cols = [var for var in df_new.columns if df_new[var].dtype!='object']\n",
    "df_new[no_obj_cols].describe().T"
   ]
  },
  {
   "cell_type": "code",
   "execution_count": 18,
   "metadata": {},
   "outputs": [
    {
     "data": {
      "text/html": [
       "<div>\n",
       "<style scoped>\n",
       "    .dataframe tbody tr th:only-of-type {\n",
       "        vertical-align: middle;\n",
       "    }\n",
       "\n",
       "    .dataframe tbody tr th {\n",
       "        vertical-align: top;\n",
       "    }\n",
       "\n",
       "    .dataframe thead th {\n",
       "        text-align: right;\n",
       "    }\n",
       "</style>\n",
       "<table border=\"1\" class=\"dataframe\">\n",
       "  <thead>\n",
       "    <tr style=\"text-align: right;\">\n",
       "      <th></th>\n",
       "      <th>count</th>\n",
       "      <th>unique</th>\n",
       "      <th>top</th>\n",
       "      <th>freq</th>\n",
       "      <th>first</th>\n",
       "      <th>last</th>\n",
       "    </tr>\n",
       "  </thead>\n",
       "  <tbody>\n",
       "    <tr>\n",
       "      <th>Effective_Date</th>\n",
       "      <td>9134</td>\n",
       "      <td>59</td>\n",
       "      <td>2011-10-01</td>\n",
       "      <td>195</td>\n",
       "      <td>2011-01-01</td>\n",
       "      <td>2011-12-02</td>\n",
       "    </tr>\n",
       "  </tbody>\n",
       "</table>\n",
       "</div>"
      ],
      "text/plain": [
       "               count unique        top freq      first       last\n",
       "Effective_Date  9134     59 2011-10-01  195 2011-01-01 2011-12-02"
      ]
     },
     "execution_count": 18,
     "metadata": {},
     "output_type": "execute_result"
    }
   ],
   "source": [
    "date_cols = [cname for cname in df_new.columns if \n",
    "             df_new[cname].dtype in ['datetime64[ns]']]\n",
    "date = df_new[date_cols]\n",
    "date.describe().T"
   ]
  },
  {
   "cell_type": "code",
   "execution_count": 19,
   "metadata": {},
   "outputs": [],
   "source": [
    "# Split data set between target variable and features\n",
    "X_full = df_new.copy()\n",
    "y = X_full.Customer_Lifetime_Value\n",
    "X_full.drop(['Customer_Lifetime_Value'], axis=1, inplace=True)"
   ]
  },
  {
   "cell_type": "code",
   "execution_count": 20,
   "metadata": {},
   "outputs": [],
   "source": [
    "# Select numerical columns\n",
    "numerical_cols = [cname for cname in X_full.columns if \n",
    "                X_full[cname].dtype in ['float64','int64']]"
   ]
  },
  {
   "cell_type": "code",
   "execution_count": 21,
   "metadata": {},
   "outputs": [
    {
     "data": {
      "text/plain": [
       "Index(['Income', 'Monthly_Premium_Auto', 'Months_Since_Last_Claim',\n",
       "       'Months_Since_Policy_Inception', 'Number_of_Open_Complaints',\n",
       "       'Number_of_Policies', 'Total_Claim_Amount', 'eoy_missing_days'],\n",
       "      dtype='object')"
      ]
     },
     "execution_count": 21,
     "metadata": {},
     "output_type": "execute_result"
    }
   ],
   "source": [
    "# Subset with numerical features\n",
    "num = X_full[numerical_cols]\n",
    "num.columns"
   ]
  },
  {
   "cell_type": "code",
   "execution_count": 22,
   "metadata": {},
   "outputs": [],
   "source": [
    "# Select categorical columns with relatively low cardinality (convenient but arbitrary)\n",
    "categorical_cols = [cname for cname in X_full.columns if\n",
    "                    X_full[cname].nunique() <= 15 and \n",
    "                    X_full[cname].dtype == \"object\"]"
   ]
  },
  {
   "cell_type": "code",
   "execution_count": 23,
   "metadata": {},
   "outputs": [
    {
     "data": {
      "text/plain": [
       "Index(['State', 'Response', 'Coverage', 'Education', 'EmploymentStatus',\n",
       "       'Gender', 'Location_Code', 'Marital_Status', 'Policy_Type', 'Policy',\n",
       "       'Renew_Offer_Type', 'Sales_Channel', 'Vehicle_Class', 'Vehicle_Size'],\n",
       "      dtype='object')"
      ]
     },
     "execution_count": 23,
     "metadata": {},
     "output_type": "execute_result"
    }
   ],
   "source": [
    "# Subset with categorical features\n",
    "cat = X_full[categorical_cols]\n",
    "cat.columns\n"
   ]
  },
  {
   "cell_type": "markdown",
   "metadata": {},
   "source": [
    "# Pre-Processing on all data set"
   ]
  },
  {
   "cell_type": "markdown",
   "metadata": {},
   "source": [
    "### One-Hot Encoding into k-1 dummy variables"
   ]
  },
  {
   "cell_type": "code",
   "execution_count": 24,
   "metadata": {},
   "outputs": [],
   "source": [
    "# Encode the categorical data \n",
    "dummy_cat = pd.concat([pd.get_dummies(cat.State, prefix='State',drop_first=True), \n",
    "                       pd.get_dummies(cat.Coverage, prefix= 'Coverage', drop_first=True), \n",
    "                       pd.get_dummies(cat.Response, prefix= 'Response', drop_first=True),\n",
    "                       pd.get_dummies(cat.Education, prefix='Education',drop_first=True),\n",
    "                       pd.get_dummies(cat.EmploymentStatus, prefix='EmploymentStatus',drop_first=True),\n",
    "                       pd.get_dummies(cat.Gender, prefix='Gender',drop_first=True),\n",
    "                       pd.get_dummies(cat.Location_Code, prefix='Location_Code',drop_first=True),\n",
    "                       pd.get_dummies(cat.Marital_Status, prefix='Marital_Status',drop_first=True),\n",
    "                       pd.get_dummies(cat.Policy_Type, prefix='Policy_Type',drop_first=True),\n",
    "                       pd.get_dummies(cat.Policy, prefix='Policy',drop_first=True),\n",
    "                       pd.get_dummies(cat.Renew_Offer_Type, prefix='Renew_Offer_Type',drop_first=True),\n",
    "                       pd.get_dummies(cat.Sales_Channel, prefix='Sales_Channel',drop_first=True),\n",
    "                       pd.get_dummies(cat.Vehicle_Size, prefix='Vehicle_Size',drop_first=True),\n",
    "                       pd.get_dummies(cat.Vehicle_Class, prefix='Vehicle_Class',drop_first=True)], axis=1)\n",
    "dummy_cat = dummy_cat.astype(int)"
   ]
  },
  {
   "cell_type": "code",
   "execution_count": 25,
   "metadata": {},
   "outputs": [],
   "source": [
    "# Grasp all\n",
    "X_all = pd.concat([dummy_cat, num], axis=1)"
   ]
  },
  {
   "cell_type": "markdown",
   "metadata": {},
   "source": [
    "### Zero/Close Zero Variance Predictors"
   ]
  },
  {
   "cell_type": "code",
   "execution_count": 26,
   "metadata": {},
   "outputs": [
    {
     "data": {
      "text/plain": [
       "['Education_Doctor',\n",
       " 'EmploymentStatus_Medical Leave',\n",
       " 'EmploymentStatus_Retired',\n",
       " 'Policy_Type_Special Auto',\n",
       " 'Policy_Special L1',\n",
       " 'Policy_Special L2',\n",
       " 'Policy_Special L3',\n",
       " 'Vehicle_Class_Luxury Car',\n",
       " 'Vehicle_Class_Luxury SUV']"
      ]
     },
     "execution_count": 26,
     "metadata": {},
     "output_type": "execute_result"
    }
   ],
   "source": [
    "# Find features with variance equal zero or lower than 0.05\n",
    "to_drop = [col for col in X_all.columns if np.var(X_all[col]) < 0.05]\n",
    "to_drop"
   ]
  },
  {
   "cell_type": "code",
   "execution_count": 27,
   "metadata": {},
   "outputs": [],
   "source": [
    "# Drop features \n",
    "X_all = X_all.drop(X_all[to_drop], axis=1)"
   ]
  },
  {
   "cell_type": "code",
   "execution_count": 28,
   "metadata": {},
   "outputs": [
    {
     "data": {
      "text/plain": [
       "(9134, 42)"
      ]
     },
     "execution_count": 28,
     "metadata": {},
     "output_type": "execute_result"
    }
   ],
   "source": [
    "# Look at the new data set\n",
    "X_all.shape"
   ]
  },
  {
   "cell_type": "markdown",
   "metadata": {},
   "source": [
    "### Correlated Predictors"
   ]
  },
  {
   "cell_type": "code",
   "execution_count": 29,
   "metadata": {},
   "outputs": [],
   "source": [
    "# Correlation heatmap\n",
    "corr_matrix = X_all.corr()"
   ]
  },
  {
   "cell_type": "code",
   "execution_count": 30,
   "metadata": {},
   "outputs": [
    {
     "data": {
      "text/plain": [
       "['EmploymentStatus_Unemployed', 'Vehicle_Size_Small', 'Income']"
      ]
     },
     "execution_count": 30,
     "metadata": {},
     "output_type": "execute_result"
    }
   ],
   "source": [
    "# Select correlated features and removed it\n",
    "# Select upper triangle of correlation matrix\n",
    "upper = corr_matrix.where(np.triu(np.ones(corr_matrix.shape), k=1).astype(np.bool))\n",
    "# Find index of feature columns with correlation greater than 0.75\n",
    "to_drop = [column for column in upper.columns if any(upper[column].abs() > 0.75)]\n",
    "to_drop"
   ]
  },
  {
   "cell_type": "code",
   "execution_count": 31,
   "metadata": {},
   "outputs": [],
   "source": [
    "# Drop features \n",
    "X_all = X_all.drop(X_all[to_drop], axis=1)"
   ]
  },
  {
   "cell_type": "code",
   "execution_count": 32,
   "metadata": {},
   "outputs": [
    {
     "data": {
      "text/plain": [
       "(9134, 39)"
      ]
     },
     "execution_count": 32,
     "metadata": {},
     "output_type": "execute_result"
    }
   ],
   "source": [
    "# Look at the new data set\n",
    "X_all.shape"
   ]
  },
  {
   "cell_type": "markdown",
   "metadata": {},
   "source": [
    "# Flat Modeling & Prediction "
   ]
  },
  {
   "cell_type": "code",
   "execution_count": 33,
   "metadata": {},
   "outputs": [],
   "source": [
    "# Normalization of data\n",
    "scaling = MinMaxScaler()"
   ]
  },
  {
   "cell_type": "code",
   "execution_count": 34,
   "metadata": {},
   "outputs": [],
   "source": [
    "all = pd.concat([df_new[['Customer_Lifetime_Value','Effective_Date']], X_all], axis=1)"
   ]
  },
  {
   "cell_type": "code",
   "execution_count": 35,
   "metadata": {},
   "outputs": [],
   "source": [
    "# Split data set train/test set:test set is built on the last 3 months to the end of the year \n",
    "train = all[all['Effective_Date'] <= '2011-09-30']\n",
    "test = all[all['Effective_Date'] >= '2011-10-01']\n",
    "train = train.drop(['Effective_Date'], axis=1)\n",
    "test = test.drop(['Effective_Date'], axis=1)\n"
   ]
  },
  {
   "cell_type": "markdown",
   "metadata": {},
   "source": [
    "#### GBM"
   ]
  },
  {
   "cell_type": "code",
   "execution_count": 36,
   "metadata": {},
   "outputs": [],
   "source": [
    "# fit the model\n",
    "X_train = train.copy()\n",
    "y_train = np.log1p(X_train.Customer_Lifetime_Value)\n",
    "X_train.drop(['Customer_Lifetime_Value'], axis=1, inplace=True)\n",
    "# Normalization of data\n",
    "X_train_sc = scaling.fit_transform(X_train)\n",
    "X_test = test.copy()\n",
    "y_test = np.log1p(X_test.Customer_Lifetime_Value)\n",
    "X_test.drop(['Customer_Lifetime_Value'], axis=1, inplace=True)\n",
    "# Normalization of data\n",
    "X_test_sc = scaling.transform(X_test)\n",
    "model = GradientBoostingRegressor(random_state=0)\n",
    "kf = KFold(n_splits=5)\n",
    "param_grid = {}\n",
    "score = []\n",
    "my_model = GridSearchCV(model,param_grid,cv=kf)\n",
    "my_model.fit(X_train_sc, y_train)\n",
    "predictions_tr = my_model.predict(X_train_sc) \n",
    "predictions_te = my_model.predict(X_test_sc)\n",
    "CLV_predict = predictions_te\n",
    "rmse_train = np.sqrt(mean_squared_error(y_train, predictions_tr))\n",
    "rmse_test = np.sqrt(mean_squared_error(y_test, predictions_te))\n",
    "score_dict = {\n",
    "        'rmse_train': rmse_train,\n",
    "        'rmse_test': rmse_test\n",
    "    }\n",
    "score.append(score_dict)\n",
    "score_3M_gbm = pd.DataFrame(score, columns = ['rmse_train', 'rmse_test'])\n",
    "predictions_te_gbm = pd.DataFrame(predictions_te, columns = ['Customer_Lifetime_Value_predict_gbm'])\n",
    "X_test = X_test.reset_index(drop=True)\n",
    "pred_gbm = pd.concat([predictions_te_gbm, X_test], axis=1)\n"
   ]
  },
  {
   "cell_type": "markdown",
   "metadata": {},
   "source": [
    "### Results Analysis"
   ]
  },
  {
   "cell_type": "code",
   "execution_count": 37,
   "metadata": {},
   "outputs": [],
   "source": [
    "gbm_results = {'model':['gbm'], 'rmse_train':score_3M_gbm['rmse_train'], 'rmse_test': score_3M_gbm['rmse_test']}"
   ]
  },
  {
   "cell_type": "code",
   "execution_count": 38,
   "metadata": {},
   "outputs": [
    {
     "data": {
      "text/html": [
       "<div>\n",
       "<style scoped>\n",
       "    .dataframe tbody tr th:only-of-type {\n",
       "        vertical-align: middle;\n",
       "    }\n",
       "\n",
       "    .dataframe tbody tr th {\n",
       "        vertical-align: top;\n",
       "    }\n",
       "\n",
       "    .dataframe thead th {\n",
       "        text-align: right;\n",
       "    }\n",
       "</style>\n",
       "<table border=\"1\" class=\"dataframe\">\n",
       "  <thead>\n",
       "    <tr style=\"text-align: right;\">\n",
       "      <th></th>\n",
       "      <th>model</th>\n",
       "      <th>rmse_train</th>\n",
       "      <th>rmse_test</th>\n",
       "    </tr>\n",
       "  </thead>\n",
       "  <tbody>\n",
       "    <tr>\n",
       "      <th>0</th>\n",
       "      <td>gbm</td>\n",
       "      <td>0.196001</td>\n",
       "      <td>0.1973</td>\n",
       "    </tr>\n",
       "  </tbody>\n",
       "</table>\n",
       "</div>"
      ],
      "text/plain": [
       "  model  rmse_train  rmse_test\n",
       "0   gbm    0.196001     0.1973"
      ]
     },
     "execution_count": 38,
     "metadata": {},
     "output_type": "execute_result"
    }
   ],
   "source": [
    "score_gbm = pd.DataFrame(gbm_results, columns=['model', 'rmse_train', 'rmse_test'])\n",
    "score_gbm"
   ]
  },
  {
   "cell_type": "markdown",
   "metadata": {},
   "source": [
    "### GLM"
   ]
  },
  {
   "cell_type": "code",
   "execution_count": 39,
   "metadata": {},
   "outputs": [],
   "source": [
    "# fit the model\n",
    "X_train = train.copy()\n",
    "y_train = np.log1p(X_train.Customer_Lifetime_Value)\n",
    "X_train.drop(['Customer_Lifetime_Value'], axis=1, inplace=True)\n",
    "# Normalization of data\n",
    "X_train_sc = scaling.fit_transform(X_train)\n",
    "X_test = test.copy()\n",
    "y_test = np.log1p(X_test.Customer_Lifetime_Value)\n",
    "X_test.drop(['Customer_Lifetime_Value'], axis=1, inplace=True)\n",
    "# Normalization of data\n",
    "X_test_sc = scaling.transform(X_test)\n",
    "model = TweedieRegressor(power=2, link='log') # GLM with Gamma distribution\n",
    "kf = KFold(n_splits=5)\n",
    "param_grid = {}\n",
    "score = []\n",
    "my_model = GridSearchCV(model,param_grid,cv=kf)\n",
    "my_model.fit(X_train_sc, y_train)\n",
    "predictions_tr = my_model.predict(X_train_sc) \n",
    "predictions_te = my_model.predict(X_test_sc)\n",
    "CLV_predict = predictions_te\n",
    "rmse_train = np.sqrt(mean_squared_error(y_train, predictions_tr))\n",
    "rmse_test = np.sqrt(mean_squared_error(y_test, predictions_te))\n",
    "score_dict = {\n",
    "        'rmse_train': rmse_train,\n",
    "        'rmse_test': rmse_test\n",
    "    }\n",
    "score.append(score_dict)\n",
    "score_3M_glm = pd.DataFrame(score, columns = ['rmse_train', 'rmse_test'])\n",
    "predictions_te_glm = pd.DataFrame(predictions_te, columns = ['Customer_Lifetime_Value_predict_glm'])\n",
    "X_test = X_test.reset_index(drop=True)\n",
    "pred_glm = pd.concat([predictions_te_glm, X_test], axis=1)\n"
   ]
  },
  {
   "cell_type": "markdown",
   "metadata": {},
   "source": [
    "### Results Analysis"
   ]
  },
  {
   "cell_type": "code",
   "execution_count": 40,
   "metadata": {},
   "outputs": [],
   "source": [
    "glm_results = {'model':['glm'], 'rmse_train':score_3M_glm['rmse_train'], 'rmse_test': score_3M_glm['rmse_test']}"
   ]
  },
  {
   "cell_type": "code",
   "execution_count": 41,
   "metadata": {},
   "outputs": [
    {
     "data": {
      "text/html": [
       "<div>\n",
       "<style scoped>\n",
       "    .dataframe tbody tr th:only-of-type {\n",
       "        vertical-align: middle;\n",
       "    }\n",
       "\n",
       "    .dataframe tbody tr th {\n",
       "        vertical-align: top;\n",
       "    }\n",
       "\n",
       "    .dataframe thead th {\n",
       "        text-align: right;\n",
       "    }\n",
       "</style>\n",
       "<table border=\"1\" class=\"dataframe\">\n",
       "  <thead>\n",
       "    <tr style=\"text-align: right;\">\n",
       "      <th></th>\n",
       "      <th>model</th>\n",
       "      <th>rmse_train</th>\n",
       "      <th>rmse_test</th>\n",
       "    </tr>\n",
       "  </thead>\n",
       "  <tbody>\n",
       "    <tr>\n",
       "      <th>0</th>\n",
       "      <td>glm</td>\n",
       "      <td>0.637301</td>\n",
       "      <td>0.643779</td>\n",
       "    </tr>\n",
       "  </tbody>\n",
       "</table>\n",
       "</div>"
      ],
      "text/plain": [
       "  model  rmse_train  rmse_test\n",
       "0   glm    0.637301   0.643779"
      ]
     },
     "execution_count": 41,
     "metadata": {},
     "output_type": "execute_result"
    }
   ],
   "source": [
    "score_glm = pd.DataFrame(glm_results, columns=['model', 'rmse_train', 'rmse_test'])\n",
    "score_glm "
   ]
  },
  {
   "cell_type": "markdown",
   "metadata": {},
   "source": [
    "### Random Forest"
   ]
  },
  {
   "cell_type": "code",
   "execution_count": 42,
   "metadata": {},
   "outputs": [],
   "source": [
    "# fit the model\n",
    "X_train = train.copy()\n",
    "y_train = np.log1p(X_train.Customer_Lifetime_Value)\n",
    "X_train.drop(['Customer_Lifetime_Value'], axis=1, inplace=True)\n",
    "# Normalization of data\n",
    "X_train_sc = scaling.fit_transform(X_train)\n",
    "X_test = test.copy()\n",
    "y_test = np.log1p(X_test.Customer_Lifetime_Value)\n",
    "X_test.drop(['Customer_Lifetime_Value'], axis=1, inplace=True)\n",
    "# Normalization of data\n",
    "X_test_sc = scaling.transform(X_test)\n",
    "model = RandomForestRegressor(random_state=0)\n",
    "kf = KFold(n_splits=5)\n",
    "param_grid = {}\n",
    "score = []\n",
    "my_model = GridSearchCV(model,param_grid,cv=kf)\n",
    "my_model.fit(X_train_sc, y_train)\n",
    "predictions_tr = my_model.predict(X_train_sc) \n",
    "predictions_te = my_model.predict(X_test_sc)\n",
    "CLV_predict = predictions_te\n",
    "rmse_train = np.sqrt(mean_squared_error(y_train, predictions_tr))\n",
    "rmse_test = np.sqrt(mean_squared_error(y_test, predictions_te))\n",
    "score_dict = {\n",
    "        'rmse_train': rmse_train,\n",
    "        'rmse_test': rmse_test\n",
    "    }\n",
    "score.append(score_dict)\n",
    "score_3M_rf = pd.DataFrame(score, columns = ['rmse_train', 'rmse_test'])\n",
    "predictions_te_rf = pd.DataFrame(predictions_te, columns = ['Customer_Lifetime_Value_predict_rf'])\n",
    "X_test = X_test.reset_index(drop=True)\n",
    "pred_rf = pd.concat([predictions_te_rf, X_test], axis=1)\n"
   ]
  },
  {
   "cell_type": "markdown",
   "metadata": {},
   "source": [
    "### Results Analysis"
   ]
  },
  {
   "cell_type": "code",
   "execution_count": 43,
   "metadata": {},
   "outputs": [],
   "source": [
    "rf_results = {'model':['rf'], 'rmse_train':score_3M_rf['rmse_train'], 'rmse_test': score_3M_rf['rmse_test']}"
   ]
  },
  {
   "cell_type": "code",
   "execution_count": 44,
   "metadata": {},
   "outputs": [
    {
     "data": {
      "text/html": [
       "<div>\n",
       "<style scoped>\n",
       "    .dataframe tbody tr th:only-of-type {\n",
       "        vertical-align: middle;\n",
       "    }\n",
       "\n",
       "    .dataframe tbody tr th {\n",
       "        vertical-align: top;\n",
       "    }\n",
       "\n",
       "    .dataframe thead th {\n",
       "        text-align: right;\n",
       "    }\n",
       "</style>\n",
       "<table border=\"1\" class=\"dataframe\">\n",
       "  <thead>\n",
       "    <tr style=\"text-align: right;\">\n",
       "      <th></th>\n",
       "      <th>model</th>\n",
       "      <th>rmse_train</th>\n",
       "      <th>rmse_test</th>\n",
       "    </tr>\n",
       "  </thead>\n",
       "  <tbody>\n",
       "    <tr>\n",
       "      <th>0</th>\n",
       "      <td>rf</td>\n",
       "      <td>0.073639</td>\n",
       "      <td>0.214578</td>\n",
       "    </tr>\n",
       "  </tbody>\n",
       "</table>\n",
       "</div>"
      ],
      "text/plain": [
       "  model  rmse_train  rmse_test\n",
       "0    rf    0.073639   0.214578"
      ]
     },
     "execution_count": 44,
     "metadata": {},
     "output_type": "execute_result"
    }
   ],
   "source": [
    "score_rf = pd.DataFrame(rf_results, columns=['model', 'rmse_train', 'rmse_test'])\n",
    "score_rf"
   ]
  },
  {
   "cell_type": "markdown",
   "metadata": {},
   "source": [
    "### NN"
   ]
  },
  {
   "cell_type": "code",
   "execution_count": 45,
   "metadata": {},
   "outputs": [],
   "source": [
    "# fit the model\n",
    "X_train = train.copy()\n",
    "y_train = np.log1p(X_train.Customer_Lifetime_Value)\n",
    "X_train.drop(['Customer_Lifetime_Value'], axis=1, inplace=True)\n",
    "# Normalization of data\n",
    "X_train_sc = scaling.fit_transform(X_train)\n",
    "X_test = test.copy()\n",
    "y_test = np.log1p(X_test.Customer_Lifetime_Value)\n",
    "X_test.drop(['Customer_Lifetime_Value'], axis=1, inplace=True)\n",
    "# Normalization of data\n",
    "X_test_sc = scaling.transform(X_test)\n",
    "model = MLPRegressor(random_state=0)\n",
    "kf = KFold(n_splits=5)\n",
    "param_grid = {}\n",
    "score = []\n",
    "my_model = GridSearchCV(model,param_grid,cv=kf)\n",
    "my_model.fit(X_train_sc, y_train)\n",
    "predictions_tr = my_model.predict(X_train_sc) \n",
    "predictions_te = my_model.predict(X_test_sc)\n",
    "CLV_predict = predictions_te\n",
    "rmse_train = np.sqrt(mean_squared_error(y_train, predictions_tr))\n",
    "rmse_test = np.sqrt(mean_squared_error(y_test, predictions_te))\n",
    "score_dict = {\n",
    "        'rmse_train': rmse_train,\n",
    "        'rmse_test': rmse_test\n",
    "    }\n",
    "score.append(score_dict)\n",
    "score_3M_nn = pd.DataFrame(score, columns = ['rmse_train', 'rmse_test'])\n",
    "predictions_te_nn = pd.DataFrame(predictions_te, columns = ['Customer_Lifetime_Value_predict_nn'])\n",
    "X_test = X_test.reset_index(drop=True)\n",
    "pred_mlp = pd.concat([predictions_te_nn, X_test], axis=1)\n"
   ]
  },
  {
   "cell_type": "markdown",
   "metadata": {},
   "source": [
    "### Results Analysis"
   ]
  },
  {
   "cell_type": "code",
   "execution_count": 46,
   "metadata": {},
   "outputs": [],
   "source": [
    "nn_results = {'model':['nn'], 'rmse_train':score_3M_nn['rmse_train'].mean(), 'rmse_test': score_3M_nn['rmse_test'].mean()}"
   ]
  },
  {
   "cell_type": "code",
   "execution_count": 47,
   "metadata": {},
   "outputs": [
    {
     "data": {
      "text/html": [
       "<div>\n",
       "<style scoped>\n",
       "    .dataframe tbody tr th:only-of-type {\n",
       "        vertical-align: middle;\n",
       "    }\n",
       "\n",
       "    .dataframe tbody tr th {\n",
       "        vertical-align: top;\n",
       "    }\n",
       "\n",
       "    .dataframe thead th {\n",
       "        text-align: right;\n",
       "    }\n",
       "</style>\n",
       "<table border=\"1\" class=\"dataframe\">\n",
       "  <thead>\n",
       "    <tr style=\"text-align: right;\">\n",
       "      <th></th>\n",
       "      <th>model</th>\n",
       "      <th>rmse_train</th>\n",
       "      <th>rmse_test</th>\n",
       "    </tr>\n",
       "  </thead>\n",
       "  <tbody>\n",
       "    <tr>\n",
       "      <th>0</th>\n",
       "      <td>nn</td>\n",
       "      <td>0.194967</td>\n",
       "      <td>0.252401</td>\n",
       "    </tr>\n",
       "  </tbody>\n",
       "</table>\n",
       "</div>"
      ],
      "text/plain": [
       "  model  rmse_train  rmse_test\n",
       "0    nn    0.194967   0.252401"
      ]
     },
     "execution_count": 47,
     "metadata": {},
     "output_type": "execute_result"
    }
   ],
   "source": [
    "score_nn = pd.DataFrame(nn_results, columns=['model', 'rmse_train', 'rmse_test'])\n",
    "score_nn"
   ]
  },
  {
   "cell_type": "code",
   "execution_count": 48,
   "metadata": {},
   "outputs": [],
   "source": [
    "score = score_gbm.append(score_glm)\n",
    "score = score.append(score_rf)\n",
    "score= score.append(score_nn)"
   ]
  },
  {
   "cell_type": "code",
   "execution_count": 49,
   "metadata": {},
   "outputs": [
    {
     "data": {
      "text/html": [
       "<div>\n",
       "<style scoped>\n",
       "    .dataframe tbody tr th:only-of-type {\n",
       "        vertical-align: middle;\n",
       "    }\n",
       "\n",
       "    .dataframe tbody tr th {\n",
       "        vertical-align: top;\n",
       "    }\n",
       "\n",
       "    .dataframe thead th {\n",
       "        text-align: right;\n",
       "    }\n",
       "</style>\n",
       "<table border=\"1\" class=\"dataframe\">\n",
       "  <thead>\n",
       "    <tr style=\"text-align: right;\">\n",
       "      <th></th>\n",
       "      <th>model</th>\n",
       "      <th>rmse_train</th>\n",
       "      <th>rmse_test</th>\n",
       "    </tr>\n",
       "  </thead>\n",
       "  <tbody>\n",
       "    <tr>\n",
       "      <th>0</th>\n",
       "      <td>gbm</td>\n",
       "      <td>0.196001</td>\n",
       "      <td>0.197300</td>\n",
       "    </tr>\n",
       "    <tr>\n",
       "      <th>0</th>\n",
       "      <td>glm</td>\n",
       "      <td>0.637301</td>\n",
       "      <td>0.643779</td>\n",
       "    </tr>\n",
       "    <tr>\n",
       "      <th>0</th>\n",
       "      <td>rf</td>\n",
       "      <td>0.073639</td>\n",
       "      <td>0.214578</td>\n",
       "    </tr>\n",
       "    <tr>\n",
       "      <th>0</th>\n",
       "      <td>nn</td>\n",
       "      <td>0.194967</td>\n",
       "      <td>0.252401</td>\n",
       "    </tr>\n",
       "  </tbody>\n",
       "</table>\n",
       "</div>"
      ],
      "text/plain": [
       "  model  rmse_train  rmse_test\n",
       "0   gbm    0.196001   0.197300\n",
       "0   glm    0.637301   0.643779\n",
       "0    rf    0.073639   0.214578\n",
       "0    nn    0.194967   0.252401"
      ]
     },
     "execution_count": 49,
     "metadata": {},
     "output_type": "execute_result"
    }
   ],
   "source": [
    "score"
   ]
  },
  {
   "cell_type": "code",
   "execution_count": 50,
   "metadata": {},
   "outputs": [
    {
     "name": "stdout",
     "output_type": "stream",
     "text": [
      "Spot Check Algorithms\n"
     ]
    },
    {
     "data": {
      "image/png": "[encoded data removed]",
      "text/plain": [
       "<Figure size 1080x360 with 2 Axes>"
      ]
     },
     "metadata": {},
     "output_type": "display_data"
    }
   ],
   "source": [
    "# Plot results for a graphical comparison\n",
    "print(\"Spot Check Algorithms\")\n",
    "sns.set( rc = {'figure.figsize': (15, 5)})\n",
    "plt.figure()\n",
    "plt.subplot(1,2,1)  \n",
    "sns.stripplot(x=\"model\", y=\"rmse_train\",data=score,size=15)\n",
    "plt.xticks(rotation=45)\n",
    "plt.title('Train results')\n",
    "axes = plt.gca()\n",
    "axes.set_ylim([0,0.8])\n",
    "plt.subplot(1,2,2)\n",
    "sns.stripplot(x=\"model\", y=\"rmse_test\",data=score,size=15)\n",
    "plt.xticks(rotation=45)\n",
    "plt.title('Test results')\n",
    "axes = plt.gca()\n",
    "axes.set_ylim([0,0.8])\n",
    "plt.show()"
   ]
  },
  {
   "cell_type": "code",
   "execution_count": 51,
   "metadata": {},
   "outputs": [
    {
     "name": "stdout",
     "output_type": "stream",
     "text": [
      "Spot Check Algorithms\n"
     ]
    },
    {
     "data": {
      "image/png": "[encoded data removed]",
      "text/plain": [
       "<Figure size 1080x360 with 2 Axes>"
      ]
     },
     "metadata": {},
     "output_type": "display_data"
    }
   ],
   "source": [
    "# Plot results for a graphical comparison\n",
    "print(\"Spot Check Algorithms\")\n",
    "sns.set( rc = {'figure.figsize': (15, 5)})\n",
    "plt.figure()\n",
    "plt.subplot(1,2,1)  \n",
    "sns.boxplot(x=\"model\", y=\"rmse_train\",data=score)\n",
    "plt.xticks(rotation=45)\n",
    "plt.title('Train results')\n",
    "axes = plt.gca()\n",
    "axes.set_ylim([0,0.8])\n",
    "plt.subplot(1,2,2)\n",
    "sns.boxplot(x=\"model\", y=\"rmse_test\",data=score)\n",
    "plt.xticks(rotation=45)\n",
    "plt.title('Test results')\n",
    "axes = plt.gca()\n",
    "axes.set_ylim([0,0.8])\n",
    "plt.show()"
   ]
  },
  {
   "cell_type": "code",
   "execution_count": 52,
   "metadata": {},
   "outputs": [],
   "source": [
    "test_df = all[all['Effective_Date'] >= '2011-10-01']\n",
    "test_df = pd.concat([test_df, np.expm1(predictions_te_glm.set_index(test.index)), np.expm1(predictions_te_gbm.set_index(test.index)), \n",
    "                     np.expm1(predictions_te_rf.set_index(test.index)), np.expm1(predictions_te_nn.set_index(test.index))], axis=1)\n"
   ]
  },
  {
   "cell_type": "code",
   "execution_count": 53,
   "metadata": {},
   "outputs": [
    {
     "data": {
      "image/png": "[encoded data removed]",
      "text/plain": [
       "<Figure size 720x360 with 1 Axes>"
      ]
     },
     "metadata": {},
     "output_type": "display_data"
    }
   ],
   "source": [
    "# Plot results\n",
    "sns.set( rc = {'figure.figsize': (10, 5)})\n",
    "fig,ax = plt.subplots(1, 1)\n",
    "sns.kdeplot(x=test_df['Customer_Lifetime_Value'], fill=True, palette=\"crest\", label=\"observed values\",)\n",
    "sns.kdeplot(x=test_df['Customer_Lifetime_Value_predict_glm'], fill=True, palette=\"crest\", label='glm predicted values')\n",
    "plt.title('Customer_Lifetime_Value: target & prediction distribution comparison')\n",
    "ax.legend()\n",
    "plt.show()"
   ]
  },
  {
   "cell_type": "code",
   "execution_count": 54,
   "metadata": {},
   "outputs": [
    {
     "data": {
      "image/png": "[encoded data removed]",
      "text/plain": [
       "<Figure size 720x360 with 1 Axes>"
      ]
     },
     "metadata": {},
     "output_type": "display_data"
    }
   ],
   "source": [
    "# Plot results\n",
    "sns.set( rc = {'figure.figsize': (10, 5)})\n",
    "fig,ax = plt.subplots(1, 1)\n",
    "sns.kdeplot(x=test_df['Customer_Lifetime_Value'], fill=True, palette=\"crest\", label=\"observed values\",)\n",
    "sns.kdeplot(x=test_df['Customer_Lifetime_Value_predict_gbm'], fill=True, palette=\"crest\", label='gbm predicted values')\n",
    "plt.title('Customer_Lifetime_Value: target & prediction distribution comparison')\n",
    "ax.legend()\n",
    "plt.show()"
   ]
  },
  {
   "cell_type": "code",
   "execution_count": 55,
   "metadata": {},
   "outputs": [
    {
     "data": {
      "image/png": "[encoded data removed]",
      "text/plain": [
       "<Figure size 720x360 with 1 Axes>"
      ]
     },
     "metadata": {},
     "output_type": "display_data"
    }
   ],
   "source": [
    "# Plot results\n",
    "sns.set( rc = {'figure.figsize': (10, 5)})\n",
    "fig,ax = plt.subplots(1, 1)\n",
    "sns.kdeplot(x=test_df['Customer_Lifetime_Value'], fill=True, palette=\"crest\", label=\"observed values\",)\n",
    "sns.kdeplot(x=test_df['Customer_Lifetime_Value_predict_rf'], fill=True, palette=\"crest\", label='rf predicted values')\n",
    "plt.title('Customer_Lifetime_Value: target & prediction distribution comparison')\n",
    "ax.legend()\n",
    "plt.show()"
   ]
  },
  {
   "cell_type": "code",
   "execution_count": 56,
   "metadata": {},
   "outputs": [
    {
     "data": {
      "image/png": "[encoded data removed]",
      "text/plain": [
       "<Figure size 720x360 with 1 Axes>"
      ]
     },
     "metadata": {},
     "output_type": "display_data"
    }
   ],
   "source": [
    "# Plot results\n",
    "sns.set( rc = {'figure.figsize': (10, 5)})\n",
    "fig,ax = plt.subplots(1, 1)\n",
    "sns.kdeplot(x=test_df['Customer_Lifetime_Value'], fill=True, palette=\"crest\", label=\"observed values\",)\n",
    "sns.kdeplot(x=test_df['Customer_Lifetime_Value_predict_nn'], fill=True, palette=\"crest\", label='nn predicted values')\n",
    "plt.title('Customer_Lifetime_Value: target & prediction distribution comparison')\n",
    "ax.legend()\n",
    "plt.show()"
   ]
  },
  {
   "cell_type": "code",
   "execution_count": null,
   "metadata": {},
   "outputs": [],
   "source": []
  },
  {
   "cell_type": "code",
   "execution_count": null,
   "metadata": {},
   "outputs": [],
   "source": []
  }
 ],
 "metadata": {
  "kernelspec": {
   "display_name": "Python 3",
   "language": "python",
   "name": "python3"
  },
  "language_info": {
   "codemirror_mode": {
    "name": "ipython",
    "version": 3
   },
   "file_extension": ".py",
   "mimetype": "text/x-python",
   "name": "python",
   "nbconvert_exporter": "python",
   "pygments_lexer": "ipython3",
   "version": "3.8.5"
  }
 },
 "nbformat": 4,
 "nbformat_minor": 2
}
